{
 "cells": [
  {
   "cell_type": "code",
   "execution_count": 2,
   "metadata": {},
   "outputs": [
    {
     "name": "stdout",
     "output_type": "stream",
     "text": [
      "../notebook/jdbc/phoenix-client-embedded-hbase-2.5-5.1.3.jar\n"
     ]
    },
    {
     "ename": "java.lang.NoClassDefFoundError",
     "evalue": "java.lang.NoClassDefFoundError: Could not initialize class org.apache.phoenix.monitoring.GlobalClientMetrics",
     "output_type": "error",
     "traceback": [
      "\u001b[1;31m---------------------------------------------------------------------------\u001b[0m",
      "\u001b[1;31mException\u001b[0m                                 Traceback (most recent call last)",
      "File \u001b[1;32morg.jpype.JPypeContext.java\u001b[0m, in \u001b[0;36morg.jpype.JPypeContext.callMethod\u001b[1;34m()\u001b[0m\n",
      "\u001b[1;31mException\u001b[0m: Java Exception",
      "\nThe above exception was the direct cause of the following exception:\n",
      "\u001b[1;31mjava.lang.NoClassDefFoundError\u001b[0m            Traceback (most recent call last)",
      "Cell \u001b[1;32mIn[2], line 12\u001b[0m\n\u001b[0;32m      8\u001b[0m os\u001b[38;5;241m.\u001b[39menviron[\u001b[38;5;124m'\u001b[39m\u001b[38;5;124mJAVA_HOME\u001b[39m\u001b[38;5;124m'\u001b[39m] \u001b[38;5;241m=\u001b[39m \u001b[38;5;124m'\u001b[39m\u001b[38;5;124mC:/Program Files/Java/jre/bin/server\u001b[39m\u001b[38;5;124m'\u001b[39m  \u001b[38;5;66;03m# JDK 설치 경로\u001b[39;00m\n\u001b[0;32m     11\u001b[0m \u001b[38;5;66;03m# JDBC 드라이버와 연결 설정\u001b[39;00m\n\u001b[1;32m---> 12\u001b[0m conn \u001b[38;5;241m=\u001b[39m \u001b[43mjaydebeapi\u001b[49m\u001b[38;5;241;43m.\u001b[39;49m\u001b[43mconnect\u001b[49m\u001b[43m(\u001b[49m\n\u001b[0;32m     13\u001b[0m \u001b[43m    \u001b[49m\u001b[38;5;124;43m\"\u001b[39;49m\u001b[38;5;124;43morg.apache.phoenix.jdbc.PhoenixDriver\u001b[39;49m\u001b[38;5;124;43m\"\u001b[39;49m\u001b[43m,\u001b[49m\u001b[43m \u001b[49m\n\u001b[0;32m     14\u001b[0m \u001b[43m    \u001b[49m\u001b[43mjdbc_url\u001b[49m\u001b[43m,\u001b[49m\u001b[43m \u001b[49m\n\u001b[0;32m     15\u001b[0m \u001b[43m    \u001b[49m\u001b[43m[\u001b[49m\u001b[38;5;124;43m\"\u001b[39;49m\u001b[38;5;124;43m\"\u001b[39;49m\u001b[43m,\u001b[49m\u001b[43m \u001b[49m\u001b[38;5;124;43m\"\u001b[39;49m\u001b[38;5;124;43m\"\u001b[39;49m\u001b[43m]\u001b[49m\u001b[43m,\u001b[49m\n\u001b[0;32m     16\u001b[0m \u001b[43m    \u001b[49m\u001b[43mphoenix_jar_path\u001b[49m\n\u001b[0;32m     17\u001b[0m \u001b[43m)\u001b[49m\n\u001b[0;32m     19\u001b[0m \u001b[38;5;66;03m# 커서 생성\u001b[39;00m\n\u001b[0;32m     20\u001b[0m cursor \u001b[38;5;241m=\u001b[39m conn\u001b[38;5;241m.\u001b[39mcursor()\n",
      "File \u001b[1;32mC:\\SSAFY\\S11P21C207\\data\\preprocess_server\\preprocess_venv\\Lib\\site-packages\\jaydebeapi\\__init__.py:412\u001b[0m, in \u001b[0;36mconnect\u001b[1;34m(jclassname, url, driver_args, jars, libs)\u001b[0m\n\u001b[0;32m    410\u001b[0m \u001b[38;5;28;01melse\u001b[39;00m:\n\u001b[0;32m    411\u001b[0m     libs \u001b[38;5;241m=\u001b[39m []\n\u001b[1;32m--> 412\u001b[0m jconn \u001b[38;5;241m=\u001b[39m \u001b[43m_jdbc_connect\u001b[49m\u001b[43m(\u001b[49m\u001b[43mjclassname\u001b[49m\u001b[43m,\u001b[49m\u001b[43m \u001b[49m\u001b[43murl\u001b[49m\u001b[43m,\u001b[49m\u001b[43m \u001b[49m\u001b[43mdriver_args\u001b[49m\u001b[43m,\u001b[49m\u001b[43m \u001b[49m\u001b[43mjars\u001b[49m\u001b[43m,\u001b[49m\u001b[43m \u001b[49m\u001b[43mlibs\u001b[49m\u001b[43m)\u001b[49m\n\u001b[0;32m    413\u001b[0m \u001b[38;5;28;01mreturn\u001b[39;00m Connection(jconn, _converters)\n",
      "File \u001b[1;32mC:\\SSAFY\\S11P21C207\\data\\preprocess_server\\preprocess_venv\\Lib\\site-packages\\jaydebeapi\\__init__.py:230\u001b[0m, in \u001b[0;36m_jdbc_connect_jpype\u001b[1;34m(jclassname, url, driver_args, jars, libs)\u001b[0m\n\u001b[0;32m    228\u001b[0m \u001b[38;5;28;01melse\u001b[39;00m:\n\u001b[0;32m    229\u001b[0m     dargs \u001b[38;5;241m=\u001b[39m driver_args\n\u001b[1;32m--> 230\u001b[0m \u001b[38;5;28;01mreturn\u001b[39;00m \u001b[43mjpype\u001b[49m\u001b[38;5;241;43m.\u001b[39;49m\u001b[43mjava\u001b[49m\u001b[38;5;241;43m.\u001b[39;49m\u001b[43msql\u001b[49m\u001b[38;5;241;43m.\u001b[39;49m\u001b[43mDriverManager\u001b[49m\u001b[38;5;241;43m.\u001b[39;49m\u001b[43mgetConnection\u001b[49m\u001b[43m(\u001b[49m\u001b[43murl\u001b[49m\u001b[43m,\u001b[49m\u001b[43m \u001b[49m\u001b[38;5;241;43m*\u001b[39;49m\u001b[43mdargs\u001b[49m\u001b[43m)\u001b[49m\n",
      "\u001b[1;31mjava.lang.NoClassDefFoundError\u001b[0m: java.lang.NoClassDefFoundError: Could not initialize class org.apache.phoenix.monitoring.GlobalClientMetrics"
     ]
    }
   ],
   "source": [
    "import jaydebeapi\n",
    "import os\n",
    "# Phoenix JDBC 드라이버 경로\n",
    "phoenix_jar_path = '../notebook/jdbc/phoenix-client-embedded-hbase-2.5-5.1.3.jar'\n",
    "print(phoenix_jar_path)\n",
    "jdbc_url = \"jdbc:phoenix:34.64.230.82,34.22.71.84,34.64.42.191:2181:/hbase\"  # Zookeeper의 주소\n",
    "# os.environ['JAVA_HOME'] = 'C:/Program Files/Java/bin'  # JDK 설치 경로\n",
    "os.environ['JAVA_HOME'] = 'C:/Program Files/Java/jre/bin/server'  # JDK 설치 경로\n",
    "\n",
    "\n",
    "# JDBC 드라이버와 연결 설정\n",
    "conn = jaydebeapi.connect(\n",
    "    \"org.apache.phoenix.jdbc.PhoenixDriver\", \n",
    "    jdbc_url, \n",
    "    [\"\", \"\"],\n",
    "    phoenix_jar_path\n",
    ")\n",
    "\n",
    "# 커서 생성\n",
    "cursor = conn.cursor()\n",
    "\n",
    "# 테이블 생성 쿼리 \n",
    "# table_name = \"ex_industry_news\"\n",
    "# create_table_query = f\"\"\"\n",
    "# CREATE TABLE {table_name} (\n",
    "#     newsId VARCHAR PRIMARY KEY,\n",
    "#     title VARCHAR,\n",
    "#     subtitle VARCHAR,\n",
    "#     media VARCHAR,\n",
    "#     description VARCHAR,\n",
    "#     thumbnail VARCHAR,\n",
    "#     uploadDatetime TIMESTAMP,\n",
    "#     article CLOB,\n",
    "#     industry VARCHAR,\n",
    "#     sentiment INTEGER\n",
    "# );\n",
    "# \"\"\"\n",
    "\n",
    "# # 테이블 생성 실행\n",
    "# cursor.execute(create_table_query)\n",
    "\n",
    "# # 커넥션 커밋\n",
    "# conn.commit()\n",
    "\n",
    "# 연결 종료\n",
    "cursor.close()\n",
    "conn.close()\n",
    "\n",
    "print(1)\n",
    "# print(f\"Table '{table_name}' created successfully.\")\n"
   ]
  },
  {
   "cell_type": "code",
   "execution_count": 1,
   "metadata": {},
   "outputs": [
    {
     "name": "stdout",
     "output_type": "stream",
     "text": [
      "connection success\n",
      "1\n"
     ]
    },
    {
     "ename": "",
     "evalue": "",
     "output_type": "error",
     "traceback": [
      "\u001b[1;31mThe Kernel crashed while executing code in the current cell or a previous cell. \n",
      "\u001b[1;31mPlease review the code in the cell(s) to identify a possible cause of the failure. \n",
      "\u001b[1;31mClick <a href='https://aka.ms/vscodeJupyterKernelCrash'>here</a> for more info. \n",
      "\u001b[1;31mView Jupyter <a href='command:jupyter.viewOutput'>log</a> for further details."
     ]
    },
    {
     "ename": "",
     "evalue": "",
     "output_type": "error",
     "traceback": [
      "\u001b[1;31mCanceled future for execute_request message before replies were done"
     ]
    },
    {
     "ename": "",
     "evalue": "",
     "output_type": "error",
     "traceback": [
      "\u001b[1;31mCanceled future for execute_request message before replies were done. \n",
      "\u001b[1;31mView Jupyter <a href='command:jupyter.viewOutput'>log</a> for further details."
     ]
    }
   ],
   "source": [
    "import jaydebeapi\n",
    "import os\n",
    "\n",
    "# 각 JAR 파일의 경로 설정\n",
    "phoenix_jar_path = '../notebook/jdbc/phoenix-client-embedded-hbase-2.5-5.1.3.jar'\n",
    "reload4j_jar_path = '../notebook/jdbc/reload4j-1.2.24.jar'\n",
    "slf4j_reload4j_jar_path = '../notebook/jdbc/slf4j-reload4j-1.7.36.jar'\n",
    "sqlline_jar_path = '../notebook/jdbc/sqlline-1.9.0-jar-with-dependencies.jar'\n",
    "\n",
    "# 클래스패스에 모든 JAR 파일을 추가\n",
    "# Windows 클래스패스 구분자: : 대신 ;를 사용하여 JAR 파일들을 구분했습니다. linux 에서는 :로 구분\n",
    "classpath = f\"{phoenix_jar_path};{reload4j_jar_path};{slf4j_reload4j_jar_path};{sqlline_jar_path}\"\n",
    "\n",
    "# JDBC URL 및 환경 변수 설정\n",
    "jdbc_url = \"jdbc:phoenix:34.64.230.82,34.22.71.84,34.64.42.191:2181:/hbase\"\n",
    "os.environ['JAVA_HOME'] = 'C:/Program Files/Java/jre/bin/server'  # JDK 설치 경로\n",
    "\n",
    "# JayDeBeAPI를 사용하여 Phoenix에 연결\n",
    "conn = jaydebeapi.connect(\n",
    "    \"org.apache.phoenix.jdbc.PhoenixDriver\",  # 드라이버 클래스 이름\n",
    "    jdbc_url,  # JDBC URL\n",
    "    [\"\", \"\"],  # 사용자명 및 비밀번호, 비워도 됨\n",
    "    classpath  # 클래스패스에 추가된 JAR 파일들\n",
    ")\n",
    "\n",
    "# 커서 생성\n",
    "cursor = conn.cursor()\n",
    "print(\"connection success\")\n",
    "\n",
    "# (테이블 생성 및 기타 작업 가능)\n",
    "\n",
    "# 테이블 생성 쿼리 (salt 적용)\n",
    "create_table_query = \"\"\"\n",
    "CREATE TABLE ph_industry_news (\n",
    "    newsId VARCHAR PRIMARY KEY,\n",
    "    title VARCHAR,\n",
    "    subtitle VARCHAR,\n",
    "    media VARCHAR,\n",
    "    description VARCHAR,\n",
    "    thumbnail VARCHAR,\n",
    "    uploadDatetime TIMESTAMP,\n",
    "    article VARCHAR,\n",
    "    industry VARCHAR,\n",
    "    sentiment INTEGER\n",
    ")\n",
    "SALT_BUCKETS = 15\n",
    "\"\"\"\n",
    "\n",
    "# 인덱스 생성 쿼리\n",
    "create_index_datetime = \"CREATE INDEX idx_uploadDatetime  ON ph_industry_news (uploadDatetime)\"\n",
    "create_index_industry = \"CREATE INDEX idx_industry  ON ph_industry_news (industry)\"\n",
    "\n",
    "\n",
    "# 테이블 생성 및 인덱스 적용\n",
    "# cursor.execute(create_table_query)\n",
    "# cursor.execute(create_index_datetime)\n",
    "print('1')\n",
    "cursor.execute(create_index_industry)\n",
    "\n",
    "# 커밋 및 연결 종료\n",
    "conn.commit()\n",
    "cursor.close()\n",
    "conn.close()\n",
    "\n",
    "print(\"Table and indexes created successfully!\")\n",
    "\n",
    "\n",
    "# 연결 종료\n",
    "cursor.close()\n",
    "conn.close()\n",
    "\n",
    "print(\"Connection successful!\")\n"
   ]
  },
  {
   "cell_type": "code",
   "execution_count": null,
   "metadata": {},
   "outputs": [],
   "source": [
    "# 데이터 불러와서 넣기\n",
    "phoenix_jar_path = '../notebook/jdbc/phoenix-client-embedded-hbase-2.5-5.1.3.jar'"
   ]
  }
 ],
 "metadata": {
  "kernelspec": {
   "display_name": "Python 3 (ipykernel)",
   "language": "python",
   "name": "python3"
  },
  "language_info": {
   "codemirror_mode": {
    "name": "ipython",
    "version": 3
   },
   "file_extension": ".py",
   "mimetype": "text/x-python",
   "name": "python",
   "nbconvert_exporter": "python",
   "pygments_lexer": "ipython3",
   "version": "3.12.4"
  }
 },
 "nbformat": 4,
 "nbformat_minor": 2
}
