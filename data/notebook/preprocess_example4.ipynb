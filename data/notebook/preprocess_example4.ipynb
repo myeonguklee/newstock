{
 "cells": [
  {
   "cell_type": "code",
   "execution_count": null,
   "metadata": {},
   "outputs": [],
   "source": [
    "# !pip install transformers torch"
   ]
  },
  {
   "cell_type": "code",
   "execution_count": null,
   "metadata": {},
   "outputs": [],
   "source": []
  },
  {
   "cell_type": "markdown",
   "metadata": {},
   "source": [
    "## 통계 결과:\n",
    "## 1. 원본 → Remove Short:\n",
    "- 최소 감소폭: 4\n",
    "- 최대 감소폭: 133\n",
    "- 평균 감소폭: 66.1\n",
    "- 최소 감소율: 1.94%\n",
    "- 최대 감소율: 8.22%\n",
    "- 평균 감소율: 4.32%\n",
    "## 2. Remove Short → DBSCAN:\n",
    "- 최소 감소폭: 0 (변화 없음)\n",
    "- 최대 감소폭: 413\n",
    "- 평균 감소폭: 219.35\n",
    "- 최소 감소율: 0%\n",
    "- 최대 감소율: 22.88%\n",
    "- 평균 감소율: 14.07%\n",
    "## 3. 원본 → DBSCAN:\n",
    "- 최소 감소폭: 4\n",
    "- 최대 감소폭: 482\n",
    "- 평균 감소폭: 285.45\n",
    "- 최소 감소율: 1.94%\n",
    "- 최대 감소율: 26.83%\n",
    "- 평균 감소율: 17.76%\n",
    "- 요약:\n",
    "  - Remove Short 단계에서 평균적으로 약 4.32%의 뉴스가 제거되었고, 최대 8.22%까지 감소했습니다.\n",
    "  - DBSCAN 단계에서 더 많은 뉴스가 제거되며, 평균적으로 14.07%가 감소했고, 최대 22.88%까지 감소했습니다.\n",
    "  - **전체 과정(원본 → DBSCAN)**에서는 평균적으로 17.76%의 뉴스가 제거되었으며, 최대 26.83%까지 감소했습니다."
   ]
  },
  {
   "cell_type": "code",
   "execution_count": 72,
   "metadata": {},
   "outputs": [],
   "source": [
    "import os\n",
    "import json\n",
    "from sklearn.feature_extraction.text import TfidfVectorizer\n",
    "from sklearn.cluster import DBSCAN\n",
    "import numpy as np\n",
    "from tqdm import tqdm\n",
    "\n",
    "# 모델 및 토크나이저 로드\n",
    "from transformers import BertTokenizer, BertForSequenceClassification\n",
    "import torch\n",
    "\n",
    "class NewsPreprocess:\n",
    "    \n",
    "    def __init__(self, type) -> None:\n",
    "        # 경로 설정\n",
    "        self.type = type\n",
    "        self.industry_news_directory = os.path.join(os.getcwd(), 'data', 'newstock_industry_news')\n",
    "        self.stock_news_directory = os.path.join(os.getcwd(), 'data', 'newstock_stock_news')\n",
    "        self.news = []\n",
    "        self.limit_page = 200\n",
    "        self.device = None\n",
    "        self.batch_size = -1\n",
    "    \n",
    "    # 로컬에서 데이터를 가져오는 함수\n",
    "    # date ex : 20230101\n",
    "    def get_news(self, start_date, end_date, mode=\"local\"):\n",
    "        if mode == 'local':\n",
    "            # 'industry' 또는 'news'에 따라 적절한 디렉토리 선택\n",
    "            if self.type == 'industry':\n",
    "                news_directory = self.industry_news_directory\n",
    "            elif self.type == 'news':\n",
    "                news_directory = self.stock_news_directory\n",
    "            else:\n",
    "                raise ValueError(\"Invalid type. Available options: 'industry', 'news'\")\n",
    "            \n",
    "            # 경로에서 시작일과 종료일에 맞는 파일을 가져오는 로직\n",
    "            news_files = []\n",
    "            \n",
    "            # 시작일과 종료일 범위에 맞는 파일만 검색\n",
    "            for file_name in os.listdir(news_directory):\n",
    "                file_date = file_name.split('.')[0]  # 파일명에서 날짜 추출\n",
    "                if start_date <= file_date <= end_date:\n",
    "                    file_path = os.path.join(news_directory, file_name)\n",
    "                    news_files.append(file_path)\n",
    "                    \n",
    "                    # JSON 파일 로드\n",
    "                    with open(file_path, 'r', encoding='utf-8') as json_file:\n",
    "                        try:\n",
    "                            data = json.load(json_file)\n",
    "                            self.news.append(data)  # JSON 데이터를 리스트에 저장\n",
    "                        except json.JSONDecodeError:\n",
    "                            print(f\"Error decoding JSON from {file_name}\")\n",
    "        \n",
    "        elif mode == 's3':\n",
    "            pass  # 추후 구현\n",
    "        \n",
    "        elif mode == 'volume':\n",
    "            pass  # 추후 구현\n",
    "        \n",
    "        else:\n",
    "            raise ValueError(\"Invalid mode. Available options: 'local', 's3', 'volume'\")\n",
    "    # 본문이 너무 짧은 데이터 처리!\n",
    "    def remove_short(self):\n",
    "        # 한 달 분량 뉴스 처리\n",
    "        for idx, news_day in tqdm(enumerate(self.news), total=len(self.news), desc=\"Processing News for Remove Short\"):\n",
    "            # 하루 단위 뉴스 처리\n",
    "            filteded_news = []\n",
    "            for news in news_day['data']:\n",
    "                # 글자 수가 특정 글자수보다 크거나 같으면\n",
    "                if len(news['article']) >= self.limit_page:\n",
    "                    filteded_news.append(news)\n",
    "            \n",
    "            # print(f\"삭제 전 : {len(news_day['data'])}, 삭제 후 : {len(filteded_news)}\")\n",
    "            self.news[idx] = filteded_news\n",
    "            \n",
    "    \n",
    "    # title을 기준으로 처리\n",
    "    def remove_with_dbscan(self):\n",
    "        # 한 달 분량 뉴스 처리\n",
    "        for idx, news_day in tqdm(enumerate(self.news), total=len(self.news), desc=\"Processing News for DBSCAN\"):\n",
    "            # 뉴스에서 우선 타이틀만을 뽑자.\n",
    "            titles = [news['title'] for news in news_day]  # 타이틀만 추출\n",
    "\n",
    "            # 타이틀을 기준으로 진행\n",
    "            tfidf_matrix = self.get_tfidf_vector(titles)\n",
    "\n",
    "            # DBSCAN 클러스터링 실행\n",
    "            dbscan = DBSCAN(eps=0.5, metric='cosine')\n",
    "            clusters = dbscan.fit_predict(tfidf_matrix)\n",
    "\n",
    "            # 클러스터 번호를 저장할 SET\n",
    "            cluster_set = set()\n",
    "            filteded_news = []\n",
    "\n",
    "            # 클러스터 결과 처리\n",
    "            for news, cluster in zip(news_day, clusters):\n",
    "                if cluster == -1:\n",
    "                    # 클러스터가 -1 (노이즈)이면 바로 추가\n",
    "                    filteded_news.append(news)\n",
    "                else:\n",
    "                    # 해당 클러스터가 이미 SET에 있는지 확인\n",
    "                    if cluster not in cluster_set:\n",
    "                        # SET에 없으면 추가하고 해당 뉴스도 필터 리스트에 추가\n",
    "                        cluster_set.add(cluster)\n",
    "                        filteded_news.append(news)\n",
    "\n",
    "            # 일 단위로 self.news 갱신\n",
    "            # print(f\"삭제 전 : {len(news_day)}, 삭제 후 : {len(filteded_news)}\")\n",
    "            self.news[idx] = filteded_news\n",
    "\n",
    "\n",
    "\n",
    "    def get_tfidf_vector(self, titles: list):\n",
    "        vectorizer = TfidfVectorizer(stop_words='english')\n",
    "        tfidf_matrix = vectorizer.fit_transform(titles)\n",
    "\n",
    "        return tfidf_matrix\n",
    "\n",
    "    def set_model_config(self):\n",
    "        self.device = torch.device('cuda' if torch.cuda.is_available() else 'cpu')\n",
    "        self.tokenizer = BertTokenizer.from_pretrained('snunlp/KR-FinBert-SC')\n",
    "        self.model = BertForSequenceClassification.from_pretrained('snunlp/KR-FinBert-SC')\n",
    "        self.model.to(self.device)\n",
    "        self.batch_size = 64\n",
    "\n",
    "    # 감정 분석 처리\n",
    "    def sentimental_analysis(self):\n",
    "        for idx, news_day in tqdm(enumerate(self.news), total=len(self.news), desc=\"Processing Sentimental Analysis\"):\n",
    "            news_with_prediction = []\n",
    "            # 뉴스에서 타이틀만을 뽑자.\n",
    "            titles = [news['title'] for news in news_day]  # 타이틀만 추출\n",
    "            predictions = self.analyze_sentiment_batch(titles)  # 타이틀을 가지고 예측\n",
    "\n",
    "            for prediction, news in zip(predictions, news_day):\n",
    "                # 예측 결과를 뉴스에 추가\n",
    "                news['sentiment'] = prediction\n",
    "                news_with_prediction.append(news)\n",
    "\n",
    "            self.news[idx] = news_with_prediction\n",
    "\n",
    "    def analyze_sentiment_batch(self, titles):\n",
    "        predictions = []\n",
    "        # confidences = []\n",
    "\n",
    "        # 텍스트를 배치로 나누어 처리\n",
    "        for i in tqdm(range(0, len(titles), self.batch_size)):\n",
    "            batch_texts = titles[i:i + self.batch_size]\n",
    "            \n",
    "            # 배치 텍스트를 토큰화\n",
    "            inputs = self.tokenizer(batch_texts, padding=True, truncation=True, max_length=512, return_tensors='pt').to(self.device)\n",
    "            \n",
    "            with torch.no_grad():\n",
    "                outputs = self.model(**inputs)\n",
    "            \n",
    "            logits = outputs.logits\n",
    "            probabilities = torch.softmax(logits, dim=1)\n",
    "            \n",
    "            batch_predictions = torch.argmax(probabilities, dim=1).tolist()\n",
    "            # batch_confidences = probabilities.max(dim=1).values.tolist()\n",
    "            \n",
    "            predictions.extend(batch_predictions)\n",
    "            # confidences.extend(batch_confidences)\n",
    "        \n",
    "        return predictions\n",
    "\n"
   ]
  },
  {
   "cell_type": "code",
   "execution_count": 93,
   "metadata": {},
   "outputs": [
    {
     "name": "stderr",
     "output_type": "stream",
     "text": [
      "Processing News for Remove Short: 100%|██████████| 31/31 [00:00<00:00, 6199.86it/s]\n"
     ]
    },
    {
     "name": "stdout",
     "output_type": "stream",
     "text": [
      "걸러내기 완료\n"
     ]
    },
    {
     "name": "stderr",
     "output_type": "stream",
     "text": [
      "Processing News for DBSCAN: 100%|██████████| 31/31 [00:00<00:00, 43.91it/s]\n"
     ]
    },
    {
     "name": "stdout",
     "output_type": "stream",
     "text": [
      "분류 완료\n",
      "모델 로드 완료\n"
     ]
    },
    {
     "name": "stderr",
     "output_type": "stream",
     "text": [
      "100%|██████████| 25/25 [00:19<00:00,  1.27it/s] | 0/31 [00:00<?, ?it/s]\n",
      "100%|██████████| 16/16 [00:12<00:00,  1.27it/s] | 1/31 [00:19<09:49, 19.64s/it]\n",
      "100%|██████████| 3/3 [00:02<00:00,  1.25it/s]   | 2/31 [00:32<07:29, 15.50s/it]\n",
      "100%|██████████| 8/8 [00:05<00:00,  1.37it/s]   | 3/31 [00:34<04:26,  9.51s/it]\n",
      "100%|██████████| 23/23 [00:19<00:00,  1.18it/s] | 4/31 [00:40<03:37,  8.07s/it]\n",
      "100%|██████████| 23/23 [00:17<00:00,  1.31it/s] | 5/31 [00:59<05:16, 12.18s/it]\n",
      "100%|██████████| 23/23 [00:17<00:00,  1.28it/s] | 6/31 [01:17<05:50, 14.03s/it]\n",
      "100%|██████████| 26/26 [00:20<00:00,  1.29it/s] | 7/31 [01:35<06:07, 15.32s/it]\n",
      "100%|██████████| 19/19 [00:15<00:00,  1.26it/s] | 8/31 [01:55<06:27, 16.85s/it]\n",
      "100%|██████████| 3/3 [00:02<00:00,  1.41it/s]   | 9/31 [02:10<05:58, 16.31s/it]\n",
      "100%|██████████| 8/8 [00:06<00:00,  1.31it/s]   | 10/31 [02:12<04:10, 11.93s/it]\n",
      "100%|██████████| 21/21 [00:17<00:00,  1.23it/s] | 11/31 [02:19<03:22, 10.14s/it]\n",
      "100%|██████████| 26/26 [00:22<00:00,  1.16it/s] | 12/31 [02:36<03:52, 12.26s/it]\n",
      "100%|██████████| 24/24 [00:19<00:00,  1.23it/s] | 13/31 [02:58<04:35, 15.33s/it]\n",
      "100%|██████████| 9/9 [00:06<00:00,  1.39it/s]   | 14/31 [03:18<04:42, 16.61s/it]\n",
      "100%|██████████| 17/17 [00:14<00:00,  1.16it/s] | 15/31 [03:24<03:36, 13.55s/it]\n",
      "100%|██████████| 3/3 [00:02<00:00,  1.44it/s]   | 16/31 [03:39<03:28, 13.89s/it]\n",
      "100%|██████████| 8/8 [00:06<00:00,  1.30it/s]   | 17/31 [03:41<02:24, 10.34s/it]\n",
      "100%|██████████| 20/20 [00:16<00:00,  1.22it/s] | 18/31 [03:47<01:58,  9.09s/it]\n",
      "100%|██████████| 22/22 [00:18<00:00,  1.18it/s] | 19/31 [04:03<02:15, 11.29s/it]\n",
      "100%|██████████| 22/22 [00:17<00:00,  1.23it/s] | 20/31 [04:22<02:28, 13.48s/it]\n",
      "100%|██████████| 23/23 [00:19<00:00,  1.21it/s] | 21/31 [04:40<02:28, 14.82s/it]\n",
      "100%|██████████| 17/17 [00:13<00:00,  1.25it/s] | 22/31 [04:59<02:24, 16.07s/it]\n",
      "100%|██████████| 4/4 [00:02<00:00,  1.55it/s]▍  | 23/31 [05:12<02:02, 15.32s/it]\n",
      "100%|██████████| 9/9 [00:06<00:00,  1.42it/s]▋  | 24/31 [05:15<01:20, 11.50s/it]\n",
      "100%|██████████| 22/22 [00:17<00:00,  1.24it/s] | 25/31 [05:21<00:59,  9.96s/it]\n",
      "100%|██████████| 24/24 [00:19<00:00,  1.25it/s] | 26/31 [05:39<01:01, 12.30s/it]\n",
      "100%|██████████| 25/25 [00:22<00:00,  1.13it/s] | 27/31 [05:58<00:57, 14.39s/it]\n",
      "100%|██████████| 24/24 [00:18<00:00,  1.29it/s] | 28/31 [06:21<00:50, 16.73s/it]\n",
      "100%|██████████| 21/21 [00:18<00:00,  1.16it/s]▎| 29/31 [06:39<00:34, 17.31s/it]\n",
      "100%|██████████| 3/3 [00:02<00:00,  1.35it/s]██▋| 30/31 [06:57<00:17, 17.53s/it]\n",
      "Processing Sentimental Analysis: 100%|██████████| 31/31 [07:00<00:00, 13.55s/it]"
     ]
    },
    {
     "name": "stdout",
     "output_type": "stream",
     "text": [
      "감정분석\n"
     ]
    },
    {
     "name": "stderr",
     "output_type": "stream",
     "text": [
      "\n"
     ]
    }
   ],
   "source": [
    "# 사용 예시\n",
    "preprocess = NewsPreprocess(type=\"industry\")\n",
    "\n",
    "# Industry 뉴스 가져오기\n",
    "preprocess.get_news(\"20240801\", \"20240831\", mode=\"local\")\n",
    "\n",
    "# print(len(preprocess.news[0]))\n",
    "# industry 뉴스 중에서 필요 없는 뉴스 처리\n",
    "preprocess.remove_short()\n",
    "print(\"걸러내기 완료\")\n",
    "\n",
    "# 분류처리!\n",
    "preprocess.remove_with_dbscan()\n",
    "print(\"분류 완료\")\n",
    "# 모델 설정\n",
    "preprocess.set_model_config()\n",
    "print(\"모델 로드 완료\")\n",
    "preprocess.sentimental_analysis()\n",
    "print(\"감정분석\")\n",
    "\n",
    "\n",
    "\n",
    "# Stock 뉴스 가져오기\n",
    "# stock_news = preprocess.get_news(\"20240701\", \"20240731\", type=\"news\", mode=\"local\")"
   ]
  },
  {
   "cell_type": "code",
   "execution_count": 79,
   "metadata": {},
   "outputs": [
    {
     "name": "stdout",
     "output_type": "stream",
     "text": [
      "10\n"
     ]
    }
   ],
   "source": [
    "print(len(preprocess.news[0][0]))"
   ]
  },
  {
   "cell_type": "code",
   "execution_count": null,
   "metadata": {},
   "outputs": [],
   "source": []
  },
  {
   "cell_type": "code",
   "execution_count": null,
   "metadata": {},
   "outputs": [],
   "source": []
  },
  {
   "cell_type": "code",
   "execution_count": 8,
   "metadata": {},
   "outputs": [],
   "source": []
  },
  {
   "cell_type": "markdown",
   "metadata": {},
   "source": [
    "# 2. Hbase 진행"
   ]
  },
  {
   "cell_type": "code",
   "execution_count": 183,
   "metadata": {},
   "outputs": [],
   "source": []
  },
  {
   "cell_type": "code",
   "execution_count": 94,
   "metadata": {},
   "outputs": [
    {
     "data": {
      "text/plain": [
       "31"
      ]
     },
     "execution_count": 94,
     "metadata": {},
     "output_type": "execute_result"
    }
   ],
   "source": [
    "tmp_news_data = preprocess.news # 하루치만\n",
    "len(tmp_news_data)"
   ]
  },
  {
   "cell_type": "code",
   "execution_count": 95,
   "metadata": {},
   "outputs": [
    {
     "data": {
      "text/plain": [
       "{'title': '상반기 경상수지 성적표 공개...“전망치 초과 달성 확실시”[주간 금융 돋보기]',\n",
       " 'subtitle': '한국은행, 오는 7일 ‘6월 국제수지’ 발표\\n5월까지 254억7000만달러 흑자 기록\\n6월에도 호조 지속 전망...\"전망치 넘어선다\"',\n",
       " 'media': '파이낸셜뉴스',\n",
       " 'description': '3일 한은에 따르면 상반기 경상수지 흑자폭이 담긴 ‘2024년 6월 국제수지’ 잠정치가 오는 7일 공개된다. 지난 5월 경상수지는 89억2000만달러 흑자를 나타내며 지난',\n",
       " 'thumbnail': 'https://img2.daumcdn.net/thumb/R658x0.q70/?fname=https://t1.daumcdn.net/news/202408/03/fnnewsi/20240803060031930hcbc.jpg',\n",
       " 'uploadDatetime': '2024-08-03 06:00:00',\n",
       " 'article': '<ImageTag>https://img2.daumcdn.net/thumb/R658x0.q70/?fname=https://t1.daumcdn.net/news/202408/03/fnnewsi/20240803060031930hcbc.jpg</ImageTag>\\n상반기 경상수지 성적표 공개...“전망치 초과 달성\\n\\n3일 한은에 따르면 상반기 경상수지 흑자폭이 담긴 ‘2024년 6월 국제수지’ 잠정치가 오는 7일 공개된다. 지난 5월 경상수지는 89억2000만달러 흑자를 나타내며 지난 2021년 9월(95억1000만달러) 이후 32개월 만에 최대 흑자를 나타냈다.\\n\\n특히 경상수지에서 가장 큰 비중을 차지하는 상품수지가 87억5000만달러 흑자를 기록하며 2021년 9월(95억4000만달러) 이후 최대 흑자를 기록했다. 14개월 연속 흑자폭을 기록한 상품수지는 흑자폭이 전월(51억1000만달러)과 전년 동월(18억8000만달러)과 비교할 때 모두 늘었다.\\n\\n본원소득수지도 배당소득을 중심으로 17억6000만달러 흑자를 나타나며 1개월 만에 플러스 전환했다. 배당소득수지는 4월의 외국인 앞 대규모 배당지급 영향이 해소되면서 전월 35억8000만달러 적자에서 5월에 11억3000만달러 흑자를 기록했다. 이자소득수지도 같은 기간 4억2000만달러에서 8억20000만달러로 흑자폭이 커졌다.\\n\\n이에 올해 초부터 5월까지 누적 경상수지는 254억7000만달러 흑자를 기록하며 지난 5월 경제전망에서 예측한 상반기 경상수지 전망치(279억달러)에 상당폭 근접했다. 한국은행은 6월 흑자폭이 5월보다 커지면서 상반기 경상수지가 전망치를 상회할 것으로 전망하고 있다.\\n\\n송재창 한은 금융통계부장은 지난달 5일 브리핑에서 “6월 상품수지와 본원소득 수지를 중심으로 상당폭 흑자를 기록할 전망”이라며 “산업통상자원부에 따르면 6월 통관기준 무역수지가 80억달러 흑자를 기록하며 5월보다 30억달러 더 늘었는데 이 부분이 6월 경상수지에 반영될 것으로 보인다. 상반기 경상수지 흑자폭이 당초 전망치를 상회할 것”이라고 설명했다.\\n\\neastcold@fnnews.com 김동찬 기자',\n",
       " 'newsId': '20240803060031772',\n",
       " 'industry': 'finance',\n",
       " 'sentiment': 2}"
      ]
     },
     "execution_count": 95,
     "metadata": {},
     "output_type": "execute_result"
    }
   ],
   "source": [
    "tmp_news_data[2][11]"
   ]
  },
  {
   "cell_type": "code",
   "execution_count": 96,
   "metadata": {},
   "outputs": [
    {
     "data": {
      "text/plain": [
       "1557"
      ]
     },
     "execution_count": 96,
     "metadata": {},
     "output_type": "execute_result"
    }
   ],
   "source": [
    "len(preprocess.news[0])"
   ]
  },
  {
   "cell_type": "code",
   "execution_count": 10,
   "metadata": {},
   "outputs": [],
   "source": [
    "# news_id_hash = hashlib.md5(\"20240701193118874\".encode()).hexdigest()\n",
    "# news_id_hash"
   ]
  },
  {
   "cell_type": "markdown",
   "metadata": {},
   "source": [
    "## 시황 테이블"
   ]
  },
  {
   "cell_type": "code",
   "execution_count": 102,
   "metadata": {},
   "outputs": [],
   "source": [
    "# 시황 테이블 고고고여기다 시발\n",
    "\n",
    "import requests\n",
    "import json\n",
    "import base64\n",
    "import time\n",
    "import hashlib\n",
    "from datetime import datetime, timezone\n",
    "import pytz\n",
    "\n",
    "class HBaseConnection:\n",
    "    \n",
    "    type_mapping = {\n",
    "        \"finance\": \"T00001\",\n",
    "        \"industry\": \"T00002\",\n",
    "        \"employ\": \"T00003\",\n",
    "        \"autos\": \"T00004\",\n",
    "        \"stock\": \"T00005\",\n",
    "        \"estate\": \"T00006\",\n",
    "        \"consumer\": \"T00007\",\n",
    "        \"worldeconomy\": \"T00008\",\n",
    "        \"coin\": \"T00009\",\n",
    "        \"pension\": \"T00010\",\n",
    "        \"policy\": \"T00011\",\n",
    "        \"startup\": \"T00012\"\n",
    "    }\n",
    "\n",
    "    def __init__(self, table_name: str, key_table_name: str):\n",
    "        # self.rest_api_url = 'http://localhost:9090'\n",
    "        self.rest_api_url = 'http://j11c207a.p.ssafy.io:9090'\n",
    "\n",
    "        self.table_name = table_name\n",
    "        self.key_table_name = key_table_name\n",
    "    \n",
    "    def table_exists(self, table_name: str) -> bool:\n",
    "        \"\"\"Check if the table exists in HBase.\"\"\"\n",
    "        url = f\"{self.rest_api_url}/{table_name}/schema\"\n",
    "        response = requests.get(url)\n",
    "        \n",
    "        if response.status_code == 200:\n",
    "            print(f\"Table '{table_name}' exists.\")\n",
    "            return True\n",
    "        elif response.status_code == 404:\n",
    "            print(f\"Table '{table_name}' does not exist.\")\n",
    "            return False\n",
    "        else:\n",
    "            print(f\"Error occurred: {response.status_code} - {response.text}\")\n",
    "            return False\n",
    "    \n",
    "    def get_table_schema(self, table_name):\n",
    "        \"\"\"Get the schema of the specified table.\"\"\"\n",
    "        url = f\"{self.rest_api_url}/{table_name}/schema\"\n",
    "        headers = {'Accept': 'application/json', \n",
    "                   'Content-Type': 'application/json'}\n",
    "        response = requests.get(url, headers=headers)\n",
    "\n",
    "        if response.status_code == 200:\n",
    "            schema = response.json()  # JSON으로 변환\n",
    "            print(f\"Schema for table '{table_name}': {schema}\")\n",
    "            return schema\n",
    "        else:\n",
    "            print(f\"Error occurred while fetching schema: {response.status_code} - {response.text}\")\n",
    "            return None\n",
    "    \n",
    "    def create_table(self, table_name) -> bool:\n",
    "        \"\"\"Create a new table with the provided schema.\"\"\"\n",
    "        url = f\"{self.rest_api_url}/{table_name}/schema\"\n",
    "        headers = {\n",
    "            \"Accept\": \"text/xml\",\n",
    "            \"Content-Type\": \"text/xml\"\n",
    "        }\n",
    "\n",
    "        table_schema = f'''<?xml version=\"1.0\" encoding=\"UTF-8\"?>\n",
    "        <TableSchema name=\"{table_name}\">\n",
    "            <ColumnSchema name=\"cf\" KEEP_DELETED_CELLS=\"true\" />\n",
    "        </TableSchema>'''\n",
    "        response = requests.post(url, headers=headers, data=table_schema)\n",
    "\n",
    "        if response.status_code == 201 or response.status_code == 200:\n",
    "            print(f\"Table '{table_name}' created successfully.\")\n",
    "            return True\n",
    "        elif response.status_code == 400:\n",
    "            print(\"Error: Bad Request -\", response.text)\n",
    "            return False\n",
    "        else:\n",
    "            print(f\"Error: {response.status_code} -\", response.text)\n",
    "            return False\n",
    "\n",
    "    def get_row_key(self, article_id):\n",
    "        \"\"\"Generate a row key based on user ID (예시로 단순한 변환 사용).\"\"\"\n",
    "        return f\"{article_id}\"  # 필요한 경우 적절한 변환 로직으로 수정\n",
    "\n",
    "    def convert_to_utc_timestamp(self, datetime_str: str) -> int:\n",
    "        \"\"\"\n",
    "        주어진 datetime 문자열을 UTC timestamp로 변환.\n",
    "        :param datetime_str: '%Y-%m-%d %H:%M:%S' 형식의 문자열\n",
    "        :return: UTC timestamp\n",
    "        \"\"\"\n",
    "        naive_datetime = datetime.strptime(datetime_str, '%Y-%m-%d %H:%M:%S').replace(tzinfo=timezone.utc)\n",
    "        return int(naive_datetime.timestamp())\n",
    "    \n",
    "    def hash_news_id(self, news_id: str) -> str:\n",
    "        \"\"\"Generate a 16-byte hash from the news ID.\"\"\"\n",
    "        return hashlib.md5(news_id.encode()).hexdigest()\n",
    "    \n",
    "    def get_industry_news_table_key(self, news_type, datetime_str, news_id):\n",
    "        # type 매핑\n",
    "        mapped_type = self.type_mapping.get(news_type, \"UnknownType\")\n",
    "\n",
    "        # UTC timestamp 변환 메소드 호출\n",
    "        new_timestamp = self.convert_to_utc_timestamp(datetime_str)\n",
    "\n",
    "        # newsId를 16바이트 크기의 해시로 변환\n",
    "        news_id_hash = hashlib.md5(news_id.encode()).hexdigest()\n",
    "\n",
    "        # salt 계산 (news_id_hash의 mod 10)\n",
    "        salt = str(int(news_id_hash, 16) % 10).zfill(2)\n",
    "        \n",
    "        return f\"{salt}{mapped_type}{new_timestamp}{news_id_hash}\"\n",
    "    \n",
    "    def get_industry_news_key_table_key(self, news_type, news_id):        \n",
    "        # type 매핑\n",
    "        mapped_type = self.type_mapping.get(news_type, \"UnknownType\")\n",
    "        # newsId를 16바이트 크기의 해시로 변환\n",
    "        news_id_hash = hashlib.md5(news_id.encode()).hexdigest()\n",
    "\n",
    "        return f\"{news_id_hash}{mapped_type}\"\n",
    "    \n",
    "    def encode_base64(self, value: str) -> str:\n",
    "        \"\"\"Base64 인코딩을 수행하는 메서드.\"\"\"\n",
    "        return base64.b64encode(value.encode()).decode()\n",
    "\n",
    "    def add_cf_prefix(self, column: str) -> str:\n",
    "        \"\"\"열 이름에 'cf:' 접두사를 추가하는 메서드.\"\"\"\n",
    "        return f\"cf:{column}\"\n",
    "\n",
    "\n",
    "    def insert_key_data(self, schema, data):\n",
    "        \"\"\"\n",
    "        Random Access를 위해 별도의 키 저장\n",
    "        :param schema: 삽입할 데이터의 스키마 (dict 형식, keys가 HBase의 columns)\n",
    "        :param data: 삽입할 데이터 (dict 형식)\n",
    "        \"\"\"\n",
    "        # HBase에 데이터 삽입\n",
    "        row_key = self.get_industry_news_key_table_key(\n",
    "                                                    datetime_str=data['uploadDatetime'],\n",
    "                                                    news_id = data['newsId'])\n",
    "        encoded_row_key = self.encode_base64(row_key)  # Base64 인코딩된 행 키\n",
    "        \n",
    "        # HBase에 데이터 삽입을 위한 URL\n",
    "        url = f\"{self.rest_api_url}/{self.key_table_name}/{row_key}\"  # 인코딩된 키 사용 X\n",
    "        headers = {\n",
    "            'Content-Type': 'application/json',\n",
    "            'Accept': 'application/json'\n",
    "        }\n",
    "\n",
    "        # 삽입할 데이터 준비 (Base64 인코딩 및 timestamp 포함)\n",
    "        cells = []\n",
    "        for key in schema:  # schema를 순회하며 Cell 객체 생성\n",
    "            column = self.encode_base64(self.add_cf_prefix(key))  # \"cf:\" 접두사를 붙여서 Base64 인코딩\n",
    "            value = self.encode_base64(str(data[key]))  # Base64 인코딩된 데이터\n",
    "\n",
    "            cells.append({\n",
    "                'column': column,\n",
    "                '$': value,\n",
    "            })\n",
    "\n",
    "        # 최종 데이터 구조 생성\n",
    "        payload = {\n",
    "            'Row': [\n",
    "                {\n",
    "                    'key': encoded_row_key,  # Base64 인코딩된 행 키\n",
    "                    'Cell': cells\n",
    "                }\n",
    "            ]\n",
    "        }\n",
    "\n",
    "\n",
    "        # PUT 요청 전송\n",
    "        response = requests.put(url, headers=headers, data=json.dumps(payload))\n",
    "\n",
    "\n",
    "        # 응답 처리\n",
    "        if response.status_code == 200 or response.status_code == 201:  # 201 Created\n",
    "            pass\n",
    "            # print(f\"Data inserted successfully for news ID: {data['newsId']}\")\n",
    "        else:\n",
    "            print(f\"Error inserting data for news ID {data['newsId']}: {response.status_code}, {response.text}\")\n",
    "        return payload\n",
    "\n",
    "\n",
    "    def insert_data(self, schema, data, table_name):\n",
    "        \"\"\"\n",
    "        HBase에 데이터를 삽입하는 메소드\n",
    "        :param schema: 삽입할 데이터의 스키마 (dict 형식, keys가 HBase의 columns)\n",
    "        :param data: 삽입할 데이터 (dict 형식)\n",
    "        \"\"\"\n",
    "        # HBase에 데이터 삽입\n",
    "        if table_name == self.table_name:\n",
    "            row_key = self.get_industry_news_table_key(news_type=data['industry'],\n",
    "                                                    datetime_str=data['uploadDatetime'],\n",
    "                                                    news_id = data['newsId'])  # newsId를 사용하여 행 키 생성\n",
    "        else:\n",
    "            row_key = self.get_industry_news_key_table_key(news_type=data['industry'],\n",
    "                                                             news_id = data['newsId'])  # newsId를 사용하여 행 키 생성\n",
    "        encoded_row_key = self.encode_base64(row_key)  # Base64 인코딩된 행 키\n",
    "\n",
    "        # HBase에 데이터 삽입을 위한 URL\n",
    "        url = f\"{self.rest_api_url}/{table_name}/{row_key}\"  # 인코딩된 키 사용 X\n",
    "        headers = {\n",
    "            'Content-Type': 'application/json',\n",
    "            'Accept': 'application/json'\n",
    "        }\n",
    "\n",
    "        # 삽입할 데이터 준비 (Base64 인코딩 및 timestamp 포함)\n",
    "        cells = []\n",
    "        for key in schema:  # schema를 순회하며 Cell 객체 생성\n",
    "            column = self.encode_base64(self.add_cf_prefix(key))  # \"cf:\" 접두사를 붙여서 Base64 인코딩\n",
    "            value = self.encode_base64(str(data[key]))  # Base64 인코딩된 데이터\n",
    "\n",
    "            cells.append({\n",
    "                'column': column,\n",
    "                '$': value,\n",
    "            })\n",
    "\n",
    "        # 최종 데이터 구조 생성\n",
    "        payload = {\n",
    "            'Row': [\n",
    "                {\n",
    "                    'key': encoded_row_key,  # Base64 인코딩된 행 키\n",
    "                    'Cell': cells\n",
    "                }\n",
    "            ]\n",
    "        }\n",
    "\n",
    "\n",
    "        # PUT 요청 전송\n",
    "        response = requests.put(url, headers=headers, data=json.dumps(payload))\n",
    "\n",
    "\n",
    "        # 응답 처리\n",
    "        if response.status_code == 200 or response.status_code == 201:  # 201 Created\n",
    "            pass\n",
    "            # print(f\"Data inserted successfully for news ID: {data['newsId']}\")\n",
    "        else:\n",
    "            print(f\"Error inserting data for news ID {data['newsId']}: {response.status_code}, {response.text}\")\n",
    "        return payload\n"
   ]
  },
  {
   "cell_type": "code",
   "execution_count": 103,
   "metadata": {},
   "outputs": [
    {
     "name": "stdout",
     "output_type": "stream",
     "text": [
      "http://j11c207a.p.ssafy.io:9090\n",
      "Table 'industry_news' exists.\n",
      "Schema for table 'industry_news': {'name': 'industry_news', 'ColumnSchema': [{'name': 'cf', 'BLOOMFILTER': 'ROW', 'VERSIONS': '1', 'IN_MEMORY': 'false', 'KEEP_DELETED_CELLS': 'true', 'DATA_BLOCK_ENCODING': 'NONE', 'TTL': '2147483647', 'COMPRESSION': 'NONE', 'MIN_VERSIONS': '0', 'BLOCKCACHE': 'true', 'BLOCKSIZE': '65536', 'REPLICATION_SCOPE': '0'}], 'IS_META': 'false'}\n",
      "Table 'industry_news_keys' exists.\n",
      "Schema for table 'industry_news_keys': {'name': 'industry_news_keys', 'ColumnSchema': [{'name': 'cf', 'BLOOMFILTER': 'ROW', 'VERSIONS': '1', 'IN_MEMORY': 'false', 'KEEP_DELETED_CELLS': 'true', 'DATA_BLOCK_ENCODING': 'NONE', 'TTL': '2147483647', 'COMPRESSION': 'NONE', 'MIN_VERSIONS': '0', 'BLOCKCACHE': 'true', 'BLOCKSIZE': '65536', 'REPLICATION_SCOPE': '0'}], 'IS_META': 'false'}\n"
     ]
    },
    {
     "name": "stderr",
     "output_type": "stream",
     "text": [
      "100%|██████████| 31/31 [27:53<00:00, 53.97s/it]\n"
     ]
    }
   ],
   "source": [
    "hbase_connection = HBaseConnection(table_name='industry_news', key_table_name='industry_news_keys')\n",
    "\n",
    "print(hbase_connection.rest_api_url)\n",
    "table_exists = hbase_connection.table_exists(hbase_connection.table_name)\n",
    "\n",
    "# 메인 테이블 존재 확인\n",
    "if table_exists:\n",
    "    hbase_connection.get_table_schema(hbase_connection.table_name)\n",
    "else:\n",
    "    hbase_connection.create_table(hbase_connection.table_name)\n",
    "\n",
    "# 키 테이블 존재 확인\n",
    "key_table_exists = hbase_connection.table_exists(hbase_connection.key_table_name)\n",
    "if key_table_exists:\n",
    "    hbase_connection.get_table_schema(hbase_connection.key_table_name)\n",
    "else:\n",
    "    hbase_connection.create_table(hbase_connection.key_table_name)\n",
    "\n",
    "\n",
    "if len(tmp_news_data) > 0:\n",
    "    table_schema = tmp_news_data[0][0].keys()\n",
    "    key_table_schema = ['uploadDatetime']\n",
    "\n",
    "    # 데이터\n",
    "    for day_data in tqdm(tmp_news_data):\n",
    "        for data in day_data:\n",
    "            hbase_connection.insert_data(table_schema, data, hbase_connection.table_name)\n",
    "            hbase_connection.insert_data(key_table_schema, data, hbase_connection.key_table_name)\n"
   ]
  },
  {
   "cell_type": "code",
   "execution_count": null,
   "metadata": {},
   "outputs": [],
   "source": []
  },
  {
   "cell_type": "markdown",
   "metadata": {},
   "source": [
    "## Random Access 접근하기"
   ]
  },
  {
   "cell_type": "code",
   "execution_count": 305,
   "metadata": {},
   "outputs": [],
   "source": [
    "import hashlib\n",
    "\n",
    "type_mapping = {\n",
    "    \"finance\": \"T00001\",\n",
    "    \"industry\": \"T00002\",\n",
    "    \"employ\": \"T00003\",\n",
    "    \"autos\": \"T00004\",\n",
    "    \"stock\": \"T00005\",\n",
    "    \"estate\": \"T00006\",\n",
    "    \"consumer\": \"T00007\",\n",
    "    \"worldeconomy\": \"T00008\",\n",
    "    \"coin\": \"T00009\",\n",
    "    \"pension\": \"T00010\",\n",
    "    \"policy\": \"T00011\",\n",
    "    \"startup\": \"T00012\"\n",
    "}\n",
    "\n",
    "def convert_to_utc_timestamp(datetime_str: str) -> int:\n",
    "    \"\"\"\n",
    "    Convert the given datetime string to a UTC timestamp.\n",
    "    :param datetime_str: String in the format '%Y-%m-%d %H:%M:%S'\n",
    "    :return: UTC timestamp\n",
    "    \"\"\"\n",
    "    naive_datetime = datetime.strptime(datetime_str, '%Y-%m-%d %H:%M:%S').replace(tzinfo=timezone.utc)\n",
    "    return int(naive_datetime.timestamp())\n",
    "\n",
    "def hash_news_id(news_id: str) -> str:\n",
    "    \"\"\"Generate a 16-byte hash from the news ID.\"\"\"\n",
    "    return hashlib.md5(news_id.encode()).hexdigest()\n",
    "\n",
    "def get_salt(news_id_hash):\n",
    "    return str(int(news_id_hash, 16) % 10).zfill(2)\n",
    "\n",
    "def get_mapped_type(news_type):\n",
    "    \"\"\"Generate the industry news table key.\"\"\"\n",
    "    # Type mapping\n",
    "    return type_mapping.get(news_type, \"UnknownType\")\n",
    "\n",
    "def get_timestamp_by_key(row_key: str):\n",
    "    \"\"\"Get a row from HBase by its key.\"\"\"\n",
    "    hbase_url = 'http://j11c207a.p.ssafy.io:9090'\n",
    "    url = f\"{hbase_url}/industry_news_keys/{row_key}\"\n",
    "    headers = {\n",
    "        'Accept': 'application/json'\n",
    "    }\n",
    "    \n",
    "    response = requests.get(url, headers=headers)\n",
    "\n",
    "    if response.status_code == 200:\n",
    "        data = response.json()\n",
    "        # Extracting the base64 encoded value\n",
    "        base64_value = data['Row'][0]['Cell'][0]['$']\n",
    "        # Decoding the base64 value => 여기서 우선 datetime str나옴('2024-07-01 15:53:00')\n",
    "        datetime_str = decode_base64(base64_value)\n",
    "        timestamps = convert_to_utc_timestamp(datetime_str)\n",
    "        return timestamps\n",
    "    else:\n",
    "        print(f\"Error fetching data for row key {row_key}: {response.status_code}, {response.text}\")\n",
    "        return None\n",
    "\n",
    "def decode_base64(encoded_value: str) -> str:\n",
    "    \"\"\"Decode a base64 encoded string.\"\"\"\n",
    "    return base64.b64decode(encoded_value).decode('utf-8')\n",
    "\n",
    "def get_news_by_key(news_type: str, timestamps: str, news_id_hash: str, column_family: str):\n",
    "    \"\"\"Get a row from the industry_news table by constructing the row key.\"\"\"\n",
    "    salt = get_salt(news_id_hash)\n",
    "    \n",
    "    # Constructing the row key\n",
    "    row_key = f\"{salt}{news_type}{timestamps}{news_id_hash}\"\n",
    "\n",
    "    # HBase REST API endpoint\n",
    "    hbase_url = 'http://j11c207a.p.ssafy.io:9090'\n",
    "    url = f\"{hbase_url}/industry_news/{row_key}\"\n",
    "    headers = {\n",
    "        'Accept': 'application/json'\n",
    "    }\n",
    "    \n",
    "    response = requests.get(url, headers=headers)\n",
    "\n",
    "    if response.status_code == 200:\n",
    "        data = response.json()\n",
    "        result = {}\n",
    "        \n",
    "        if 'Row' in data and len(data['Row']) > 0:\n",
    "            row_data = data['Row'][0]\n",
    "            \n",
    "            for cell in row_data['Cell']:\n",
    "                column = cell['column']  # Get the column\n",
    "                decoded_column = base64.b64decode(column).decode('utf-8')  # Decode the column\n",
    "                value = cell['$']  # Get the value\n",
    "                decoded_value = base64.b64decode(value).decode('utf-8')  # Decode the value\n",
    "                \n",
    "                # Remove 'cf:' from the column name for the result dictionary\n",
    "                clean_column_name = decoded_column.replace(f\"{column_family}:\", \"\")\n",
    "                result[clean_column_name] = decoded_value\n",
    "\n",
    "        return result\n"
   ]
  },
  {
   "cell_type": "code",
   "execution_count": 306,
   "metadata": {},
   "outputs": [
    {
     "data": {
      "text/plain": [
       "{'article': '<ImageTag>https://img4.daumcdn.net/thumb/R658x0.q70/?fname=https://t1.daumcdn.net/news/202407/01/ned/20240701112611630psrx.jpg</ImageTag>\\n상도푸르지오클라베뉴 투시도 [대우건설 제공]\\n\\n분양가가 오르면서 골칫거리로 취급되던 미분양도 순차적으로 계약이 완료되고 있다. 특히 수도권은 고분양가 논란이 일며 오랜 기간 판매가 지지부진했던 단지들도 ‘완판’에 한 걸음 다가서는 모양새다.\\n\\n1일 분양업계에 따르면 경기 옥정신도시 양주옥정LH엘리프는 지난 5월부터 선착순 계약을 실시했다. 이 단지는 지난해 7월 입주를 시작했지만 선착순 계약을 시작할 당시 전체 70% 상당이 미분양 상태였다. 이에 한국토지주택공사(LH)는 발코니 확장을 옵션을 무상으로 지원하고 잔금 일부에 대해 무이자 금융 혜택을 제공하며 계약률을 높여 왔다. 그러다 최근 상황이 급변했다. 계약 상담이 늘어나면서 총 1409가구 가운데 900가구에 달하는 전용 59㎡가 모두 계약이 완료된 것이다. 이 평형 분양가는 2억7130만~2억9497만원대다. 전용 51㎡ 또한 70여가구만 남았다. LH 관계자는 “이달 계약 문의가 급격하게 늘었고, 상담 예약도 꾸준히 잡히고 있다”면서 “현재 계약 진행 중으로 잔여물량은 향후 더 줄어들 예정”이라고 설명했다.\\n\\n고분양가 논란이 일며 임의공급 7차까지 간 서울시 동작구 상도동 상도푸르지오클라베뉴도 ‘완판’을 앞두고 있다. 업계에 따르면 시행사 물량까지 총 30여가구만 남은 상황으로 전해진다. 단지는 지난해 9월 700가구 규모로 분양을 시작했고 10월부터 선착순 분양에 돌입했다. 후분양이라 자금 계획이 빠듯하고, 전용 84㎡가 12억원을 웃돌면서 부정적인 시각도 나왔지만, 결국 전 물량 계약에 가까워지고 있는 것이다.\\n\\n임의공급 12차까지 간 구로구 가리봉동 남구로역 동일 센타시아도 미분양 물량이 한 자릿수(6가구) 대로 떨어졌다. 단지는 가리봉동 일대에 들어선 첫 아파트로 2022년 9월 청약시장에 나왔으나 여전히 주인을 찾고 있다. 전용 33.64㎡~67.94㎡ 면적으로 총 162가구 규모다.\\n\\n부동산 업계에서는 분양가 상승이 지속되면서 기존에는 고분양가라는 이유로 수요가 높지 않았던 물건들이 순차적으로 계약될 것으로 보고 있다. 한 시공사 관계자는 “분양가는 계속 오를 것이기 때문에 현재 미분양 물건의 분양가 이슈는 크게 문제가 되지 않을 것으로 보인다”고 말했다.\\n\\n다만 수도권 미분양 물량이 계약되는 추세에도 전국 미분양은 7만 가구를 웃돌고 있다. 국토교통부 5월 주택통계에 따르면 전국 미분양 주택은 7만2129가구로 집계됐다. 4월보다 0.2%(132가구) 늘며 6개월 연속 증가했다. 지방 미분양 물량이 5만7368가구로 한 달 새 26가구, 수도권 미분양은 1만4761가구로 106가구 증가했다.\\n\\n박자연 기자\\n\\nnature68@heraldcorp.com',\n",
       " 'description': '분양가가 오르면서 골칫거리로 취급되던 미분양도 순차적으로 계약이 완료되고 있다. 특히 수도권은 고분양가 논란이 일며 오랜 기간 판매가 지지부진했던 단지들도 ‘완판’에 한 ',\n",
       " 'industry': 'estate',\n",
       " 'media': '헤럴드경제',\n",
       " 'newsId': '20240701112610199',\n",
       " 'sentiment': '1',\n",
       " 'subtitle': '양주옥정단지 일부 평형 계약완료\\n서울 상도·가리봉 全물량 곧 계약\\n전국 미분양은 6개월째 증가 ‘대조’',\n",
       " 'thumbnail': 'https://img4.daumcdn.net/thumb/R658x0.q70/?fname=https://t1.daumcdn.net/news/202407/01/ned/20240701112611630psrx.jpg',\n",
       " 'title': '분양가 오르자 수도권 미분양 완판 임박',\n",
       " 'uploadDatetime': '2024-07-01 11:26:00'}"
      ]
     },
     "execution_count": 306,
     "metadata": {},
     "output_type": "execute_result"
    }
   ],
   "source": [
    "# Random Access\n",
    "\n",
    "# Client한테 들어왔다 가정하기\n",
    "news_id = \"20240701112610199\"\n",
    "news_type = 'estate'\n",
    "\n",
    "# 1. 우선 클라이언트로부터 받은 정보를 가지고 timestamp 추출\n",
    "news_id_hash = hash_news_id(news_id)\n",
    "mapped_type = get_mapped_type(news_type)\n",
    "\n",
    "\n",
    "row_key = news_id_hash + mapped_type\n",
    "\n",
    "# 2. industry_news_keys 테이블 찌름\n",
    "timestamps = get_timestamp_by_key(row_key)\n",
    "\n",
    "# 2. industry_news찌름\n",
    "column_family = 'cf'\n",
    "article = get_news_by_key(mapped_type, timestamps, news_id_hash, column_family)\n",
    "article"
   ]
  },
  {
   "cell_type": "code",
   "execution_count": 88,
   "metadata": {},
   "outputs": [
    {
     "data": {
      "text/plain": [
       "'56213c8806308805ae0e9013a7e58510'"
      ]
     },
     "execution_count": 88,
     "metadata": {},
     "output_type": "execute_result"
    }
   ],
   "source": [
    "news_id_hash"
   ]
  },
  {
   "cell_type": "markdown",
   "metadata": {},
   "source": [
    "##  Timestamp"
   ]
  },
  {
   "cell_type": "code",
   "execution_count": 71,
   "metadata": {},
   "outputs": [
    {
     "name": "stdout",
     "output_type": "stream",
     "text": [
      "(1719801060, 1719812460)\n"
     ]
    }
   ],
   "source": [
    "from datetime import datetime, timezone\n",
    "\n",
    "def convert_to_utc_timestamps(start, end):\n",
    "    # 문자열을 UTC datetime 객체로 변환\n",
    "    start_dt = datetime.strptime(start, '%Y-%m-%d %H:%M:%S').replace(tzinfo=timezone.utc)\n",
    "    end_dt = datetime.strptime(end, '%Y-%m-%d %H:%M:%S').replace(tzinfo=timezone.utc)\n",
    "    \n",
    "    # Unix timestamp로 변환\n",
    "    start_timestamp = int(start_dt.timestamp())\n",
    "    end_timestamp = int(end_dt.timestamp())\n",
    "    \n",
    "    return start_timestamp, end_timestamp\n",
    "\n",
    "# 사용 예시\n",
    "start = '2024-07-01 02:31:00'  # UTC 시간\n",
    "end = '2024-07-01 05:41:00'    # UTC 시간\n",
    "timestamps = convert_to_utc_timestamps(start, end)\n",
    "\n",
    "print(timestamps)\n"
   ]
  },
  {
   "cell_type": "code",
   "execution_count": 302,
   "metadata": {},
   "outputs": [
    {
     "name": "stderr",
     "output_type": "stream",
     "text": [
      " 45%|████▌     | 5/11 [00:00<00:00, 40.86it/s]"
     ]
    },
    {
     "name": "stdout",
     "output_type": "stream",
     "text": [
      "SALT 0: Data retrieved.\n",
      "SALT 1: Data retrieved.\n",
      "SALT 2: Data retrieved.\n",
      "SALT 3: Data retrieved.\n",
      "SALT 4: Data retrieved.\n",
      "SALT 5: Data retrieved.\n",
      "SALT 6: Data retrieved.\n",
      "SALT 7: Data retrieved.\n"
     ]
    },
    {
     "name": "stderr",
     "output_type": "stream",
     "text": [
      "100%|██████████| 11/11 [00:00<00:00, 41.11it/s]"
     ]
    },
    {
     "name": "stdout",
     "output_type": "stream",
     "text": [
      "SALT 8: Data retrieved.\n",
      "SALT 9: Data retrieved.\n",
      "SALT 10: Data retrieved.\n"
     ]
    },
    {
     "name": "stderr",
     "output_type": "stream",
     "text": [
      "\n"
     ]
    }
   ],
   "source": [
    "import requests\n",
    "import base64\n",
    "from tqdm import tqdm\n",
    "\n",
    "# HBase REST API 설정\n",
    "# base_url = 'http://localhost:9090'\n",
    "base_url = 'http://j11c207a.p.ssafy.io:9090'\n",
    "table_name = 'industry_news'\n",
    "\n",
    "# SALT 범위 및 시간 설정\n",
    "max_salt = 10\n",
    "start_row_prefix = 'T00001'\n",
    "stop_row_prefix = 'T00001'\n",
    "start_time = '1719801060'\n",
    "stop_time = '1722442203' # 24/7/31\n",
    "\n",
    "# 결과를 저장할 리스트\n",
    "results = []\n",
    "\n",
    "# 스캔 요청을 위한 함수\n",
    "def scan_hbase(salt):\n",
    "    start_row = f\"{salt:02d}{start_row_prefix}{start_time}\"\n",
    "    stop_row = f\"{salt:02d}{stop_row_prefix}{stop_time}\"\n",
    "    \n",
    "    # HBase REST API URL\n",
    "    scan_url = f\"{base_url}/{table_name}/scanner\"\n",
    "    \n",
    "    # 요청 본문 생성 시 base64로 인코딩\n",
    "    scan_body = {\n",
    "        \"startRow\": base64.b64encode(start_row.encode()).decode(),\n",
    "        \"endRow\": base64.b64encode(stop_row.encode()).decode(),\n",
    "    }\n",
    "    \n",
    "    # 스캔 요청\n",
    "    headers = {\n",
    "        \"Accept\": \"application/json\",  # JSON 응답을 요청\n",
    "        \"Content-Type\": \"application/json\"  # JSON 데이터 형식으로 전송\n",
    "    }\n",
    "    response = requests.post(scan_url, json=scan_body)\n",
    "    \n",
    "    if response.status_code == 201:\n",
    "        # JSON 응답에서 Location 헤더를 통해 scanner_id 추출\n",
    "        location = response.headers['Location']\n",
    "        results.append(location)\n",
    "        print(f\"SALT {salt}: Data retrieved.\")\n",
    "    else:\n",
    "        print(f\"Error scanning SALT {salt}: {response.status_code}, {response.text}\")\n",
    "\n",
    "# 스캔 요청 수행\n",
    "for salt in tqdm(range(max_salt + 1)):\n",
    "    scan_hbase(salt)\n",
    "\n",
    "\n"
   ]
  },
  {
   "cell_type": "code",
   "execution_count": 298,
   "metadata": {},
   "outputs": [
    {
     "name": "stdout",
     "output_type": "stream",
     "text": [
      "No more data for http://j11c207a.p.ssafy.io:9090/industry_news/scanner/172728448510561d7a7a. Deleting scanner...\n",
      "Scanner http://j11c207a.p.ssafy.io:9090/industry_news/scanner/172728448510561d7a7a deleted successfully.\n",
      "No more data for http://j11c207a.p.ssafy.io:9090/industry_news/scanner/172728448534776801cf7. Deleting scanner...\n",
      "Scanner http://j11c207a.p.ssafy.io:9090/industry_news/scanner/172728448534776801cf7 deleted successfully.\n",
      "No more data for http://j11c207a.p.ssafy.io:9090/industry_news/scanner/17272844853702fadb62d. Deleting scanner...\n",
      "Scanner http://j11c207a.p.ssafy.io:9090/industry_news/scanner/17272844853702fadb62d deleted successfully.\n",
      "No more data for http://j11c207a.p.ssafy.io:9090/industry_news/scanner/17272844853925e8757df. Deleting scanner...\n",
      "Scanner http://j11c207a.p.ssafy.io:9090/industry_news/scanner/17272844853925e8757df deleted successfully.\n",
      "No more data for http://j11c207a.p.ssafy.io:9090/industry_news/scanner/17272844854153e673493. Deleting scanner...\n",
      "Scanner http://j11c207a.p.ssafy.io:9090/industry_news/scanner/17272844854153e673493 deleted successfully.\n",
      "No more data for http://j11c207a.p.ssafy.io:9090/industry_news/scanner/1727284485437708bf7cb. Deleting scanner...\n",
      "Scanner http://j11c207a.p.ssafy.io:9090/industry_news/scanner/1727284485437708bf7cb deleted successfully.\n",
      "No more data for http://j11c207a.p.ssafy.io:9090/industry_news/scanner/1727284485461554d54b0. Deleting scanner...\n",
      "Scanner http://j11c207a.p.ssafy.io:9090/industry_news/scanner/1727284485461554d54b0 deleted successfully.\n",
      "No more data for http://j11c207a.p.ssafy.io:9090/industry_news/scanner/172728448548313a2d110. Deleting scanner...\n",
      "Scanner http://j11c207a.p.ssafy.io:9090/industry_news/scanner/172728448548313a2d110 deleted successfully.\n",
      "No more data for http://j11c207a.p.ssafy.io:9090/industry_news/scanner/17272844855063d5f8d46. Deleting scanner...\n",
      "Scanner http://j11c207a.p.ssafy.io:9090/industry_news/scanner/17272844855063d5f8d46 deleted successfully.\n",
      "No more data for http://j11c207a.p.ssafy.io:9090/industry_news/scanner/17272844855287aec1a37. Deleting scanner...\n",
      "Scanner http://j11c207a.p.ssafy.io:9090/industry_news/scanner/17272844855287aec1a37 deleted successfully.\n",
      "No more data for http://j11c207a.p.ssafy.io:9090/industry_news/scanner/17272844855524bc956f5. Deleting scanner...\n",
      "Scanner http://j11c207a.p.ssafy.io:9090/industry_news/scanner/17272844855524bc956f5 deleted successfully.\n",
      "Final results:\n"
     ]
    }
   ],
   "source": [
    "# 각 scanner_id에 대해 GET 요청하여 결과 저장\n",
    "final_results = []\n",
    "\n",
    "# JSON 응답을 요청하는 헤더\n",
    "headers = {\n",
    "    \"Accept\": \"application/json\",  # JSON 응답을 요청\n",
    "}\n",
    "\n",
    "for scanner_id in results:\n",
    "    while True:\n",
    "        # GET 요청을 통해 데이터 가져오기\n",
    "        get_url = scanner_id\n",
    "        response = requests.get(get_url, headers=headers)\n",
    "        \n",
    "        if response.status_code == 200:\n",
    "            # 성공적으로 데이터를 가져온 경우\n",
    "            data = response.json()  # 응답을 JSON으로 파싱\n",
    "            final_results.append(data)  # 결과를 저장\n",
    "            # print(f\"Data retrieved from {scanner_id}: {data}\")\n",
    "        elif response.status_code == 204:\n",
    "            # 스캐너가 모두 소진된 경우\n",
    "            print(f\"No more data for {scanner_id}. Deleting scanner...\")\n",
    "            # DELETE 요청으로 자원 해제\n",
    "            delete_response = requests.delete(scanner_id)\n",
    "            if delete_response.status_code == 200:\n",
    "                print(f\"Scanner {scanner_id} deleted successfully.\")\n",
    "            else:\n",
    "                print(f\"Error deleting scanner {scanner_id}: {delete_response.status_code}, {delete_response.text}\")\n",
    "            break\n",
    "        else:\n",
    "            # 오류 발생 시 응답 출력\n",
    "            print(f\"Error retrieving data from {scanner_id}: {response.status_code}, {response.text}\")\n",
    "            break\n",
    "\n",
    "# 최종 결과 출력\n",
    "print(\"Final results:\")\n",
    "# print(final_results)\n"
   ]
  },
  {
   "cell_type": "code",
   "execution_count": 299,
   "metadata": {},
   "outputs": [
    {
     "name": "stdout",
     "output_type": "stream",
     "text": [
      "11\n"
     ]
    }
   ],
   "source": [
    "print(len(results))"
   ]
  },
  {
   "cell_type": "code",
   "execution_count": 300,
   "metadata": {},
   "outputs": [
    {
     "name": "stdout",
     "output_type": "stream",
     "text": [
      "10\n"
     ]
    }
   ],
   "source": [
    "print(len(final_results))"
   ]
  },
  {
   "cell_type": "code",
   "execution_count": 301,
   "metadata": {},
   "outputs": [
    {
     "name": "stdout",
     "output_type": "stream",
     "text": [
      "356\n",
      "359\n",
      "381\n",
      "374\n",
      "348\n",
      "333\n",
      "356\n",
      "369\n",
      "359\n",
      "370\n"
     ]
    }
   ],
   "source": [
    "for result in final_results:\n",
    "    print(len(result['Row']))"
   ]
  },
  {
   "cell_type": "code",
   "execution_count": null,
   "metadata": {},
   "outputs": [],
   "source": []
  },
  {
   "cell_type": "code",
   "execution_count": 272,
   "metadata": {},
   "outputs": [
    {
     "data": {
      "text/plain": [
       "[{'key': 'MDJUMDAwMDExNzE5ODExODAwZTNkNTgwNTQ0ODcxOWNlMzFiNGRlMmNlMjIyYWRiYjA=',\n",
       "  'Cell': [{'column': 'Y2Y6YXJ0aWNsZQ==',\n",
       "    'timestamp': 1727274257686,\n",
       "    '$': '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'},\n",
       "   {'column': 'Y2Y6ZGVzY3JpcHRpb24=',\n",
       "    'timestamp': 1727274257686,\n",
       "    '$': '7ZWY64KY6riI7Jy16re466O57J2AIOyngOuCnO2VtCBFU0cg7Zmc64+ZIOuwjyDshLHqs7zrpbwg64u07J2AICcyMDIzIOyngOyGjeqwgOuKpeqyveyYgeuztOqzoOyEnCfrpbwg67Cc6rCE7ZaI64uk6rOgIDMw7J28IOuwne2YlOuLpC7tlZjrgpjquIjsnLXsnYAg7Jis7ZW066GcIOyXtOydvOqzsSDrsojsp7gg67Cc6rCE7J2EIOunnuydgCDsnbTrsogg67O06rOg7ISc7JeQICfrqqjrkZA='},\n",
       "   {'column': 'Y2Y6aW5kdXN0cnk=',\n",
       "    'timestamp': 1727274257686,\n",
       "    '$': 'ZmluYW5jZQ=='},\n",
       "   {'column': 'Y2Y6bWVkaWE=',\n",
       "    'timestamp': 1727274257686,\n",
       "    '$': '7ISc7Jq46rK97KCc'},\n",
       "   {'column': 'Y2Y6bmV3c0lk',\n",
       "    'timestamp': 1727274257686,\n",
       "    '$': 'MjAyNDA3MDEwNTMwMjUzNDA='},\n",
       "   {'column': 'Y2Y6c2VudGltZW50', 'timestamp': 1727274257686, '$': 'MQ=='},\n",
       "   {'column': 'Y2Y6c3VidGl0bGU=',\n",
       "    'timestamp': 1727274257686,\n",
       "    '$': '7IOd7JWgIOyghOuwmCDslYTsmrDrpbTripQgJ+yduOyDneyXrOyglSDsp4Dsm5Ag7ZSE66Gc7KCd7Yq4JyDspJHsoJDsnLzroZwg64uk66SECu2VqOyYgeyjvCDtmozsnqUgIuuLpOyWke2VnCDsgqztmozsoIEg6rCA7LmYIOywvey2nCDsi6Tsspwi'},\n",
       "   {'column': 'Y2Y6dGh1bWJuYWls',\n",
       "    'timestamp': 1727274257686,\n",
       "    '$': 'aHR0cHM6Ly9pbWc0LmRhdW1jZG4ubmV0L3RodW1iL1I2NTh4MC5xNzAvP2ZuYW1lPWh0dHBzOi8vdDEuZGF1bWNkbi5uZXQvbmV3cy8yMDI0MDcvMDEvc2VvdWxlY29ub215LzIwMjQwNzAxMDUzMDI3Njk4Z3Bxby5qcGc='},\n",
       "   {'column': 'Y2Y6dGl0bGU=',\n",
       "    'timestamp': 1727274257686,\n",
       "    '$': '7ZWY64KY6riI7Jy1LCAnMjAyMyDsp4Dsho3qsIDriqXqsr3smIHrs7Tqs6DshJwnIOuwnOqwhA=='},\n",
       "   {'column': 'Y2Y6dXBsb2FkRGF0ZXRpbWU=',\n",
       "    'timestamp': 1727274257686,\n",
       "    '$': 'MjAyNC0wNy0wMSAwNTozMDowMA=='}]}]"
      ]
     },
     "execution_count": 272,
     "metadata": {},
     "output_type": "execute_result"
    }
   ],
   "source": [
    "final_results[0]['Row']"
   ]
  },
  {
   "cell_type": "code",
   "execution_count": null,
   "metadata": {},
   "outputs": [],
   "source": []
  },
  {
   "cell_type": "code",
   "execution_count": 182,
   "metadata": {},
   "outputs": [
    {
     "data": {
      "text/plain": [
       "b'<ImageTag>https://img1.daumcdn.net/thumb/R658x0.q70/?fname=https://t1.daumcdn.net/news/202407/01/chosunbiz/20240701060153208hcam.jpg</ImageTag>\\n\\xec\\xa1\\xb0\\xec\\x84\\xa0DB\\n\\n\\xec\\x97\\xac\\xec\\x95\\xbc \\xec\\x9d\\x98\\xec\\x9b\\x90\\xeb\\x93\\xa4\\xec\\x9d\\xb4 \\xec\\x98\\x88\\xea\\xb8\\x88\\xec\\x9e\\x90 \\xeb\\xb3\\xb4\\xed\\x98\\xb8 \\xed\\x95\\x9c\\xeb\\x8f\\x84\\xeb\\xa5\\xbc 1\\xec\\x96\\xb5\\xec\\x9b\\x90 \\xec\\x9d\\xb4\\xec\\x83\\x81\\xec\\x9c\\xbc\\xeb\\xa1\\x9c \\xec\\x98\\xac\\xeb\\xa6\\xac\\xeb\\x8a\\x94 \\xeb\\x82\\xb4\\xec\\x9a\\xa9\\xec\\x9d\\x98 \\xec\\x98\\x88\\xea\\xb8\\x88\\xec\\x9e\\x90\\xeb\\xb3\\xb4\\xed\\x98\\xb8\\xeb\\xb2\\x95 \\xea\\xb0\\x9c\\xec\\xa0\\x95\\xec\\x95\\x88\\xec\\x9d\\x84 \\xec\\x9e\\x87\\xeb\\x8b\\xac\\xec\\x95\\x84 \\xeb\\xb0\\x9c\\xec\\x9d\\x98\\xed\\x95\\x98\\xea\\xb3\\xa0 \\xec\\x9e\\x88\\xeb\\x8b\\xa4. \\xea\\xb5\\xad\\xeb\\x82\\xb4 \\xea\\xb8\\x88\\xec\\x9c\\xb5\\xec\\x86\\x8c\\xeb\\xb9\\x84\\xec\\x9e\\x90\\xeb\\x8a\\x94 \\xec\\x98\\x88\\xea\\xb8\\x88\\xec\\x9d\\x84 \\xeb\\xa7\\xa1\\xea\\xb8\\xb4 \\xea\\xb8\\x88\\xec\\x9c\\xb5\\xed\\x9a\\x8c\\xec\\x82\\xac\\xea\\xb0\\x80 \\xec\\x98\\x81\\xec\\x97\\x85\\xec\\x9d\\x84 \\xec\\xa4\\x91\\xeb\\x8b\\xa8\\xed\\x95\\x98\\xea\\xb1\\xb0\\xeb\\x82\\x98 \\xed\\x8c\\x8c\\xec\\x82\\xb0\\xed\\x96\\x88\\xec\\x9d\\x84 \\xea\\xb2\\xbd\\xec\\x9a\\xb0 \\xec\\x98\\x88\\xea\\xb8\\x88\\xeb\\xb3\\xb4\\xed\\x97\\x98\\xea\\xb3\\xb5\\xec\\x82\\xac\\xeb\\xa1\\x9c\\xeb\\xb6\\x80\\xed\\x84\\xb0 \\xeb\\x8f\\x88\\xec\\x9d\\x84 \\xeb\\x8f\\x8c\\xeb\\xa0\\xa4\\xeb\\xb0\\x9b\\xec\\x9d\\x84 \\xec\\x88\\x98 \\xec\\x9e\\x88\\xeb\\x8b\\xa4. \\xed\\x95\\x9c\\xeb\\x8f\\x84\\xeb\\x8a\\x94 2001\\xeb\\x85\\x84 \\xec\\x9d\\xb4\\xed\\x9b\\x84 24\\xeb\\x85\\x84\\xec\\xa7\\xb8 1\\xec\\x9d\\xb8\\xeb\\x8b\\xb9 \\xec\\x9b\\x90\\xea\\xb8\\x88\\xea\\xb3\\xbc \\xec\\x9d\\xb4\\xec\\x9e\\x90\\xeb\\xa5\\xbc \\xed\\x95\\xa9\\xec\\xb3\\x90 5000\\xeb\\xa7\\x8c\\xec\\x9b\\x90\\xec\\x9c\\xbc\\xeb\\xa1\\x9c \\xeb\\xac\\xb6\\xec\\x97\\xac \\xec\\x9e\\x88\\xeb\\x8b\\xa4. \\xec\\xa7\\x80\\xeb\\x82\\x9c\\xed\\x95\\xb4 \\xea\\xb8\\x88\\xec\\x9c\\xb5 \\xeb\\x8b\\xb9\\xea\\xb5\\xad\\xec\\x9d\\xb4 \\xe2\\x80\\x98\\xed\\x98\\x84\\xed\\x96\\x89 \\xed\\x95\\x9c\\xeb\\x8f\\x84 \\xec\\x9c\\xa0\\xec\\xa7\\x80\\xe2\\x80\\x99\\xeb\\xa1\\x9c \\xea\\xb2\\xb0\\xeb\\xa1\\xa0\\xec\\x9d\\x84 \\xeb\\x82\\xb4\\xeb\\xa6\\xb0 \\xec\\x82\\xac\\xec\\x95\\x88\\xec\\x9d\\xb4\\xec\\xa7\\x80\\xeb\\xa7\\x8c, \\xec\\xa0\\x95\\xec\\xb9\\x98\\xea\\xb6\\x8c\\xeb\\xb0\\x9c(\\xe7\\x99\\xbc)\\xeb\\xa1\\x9c \\xeb\\x85\\xbc\\xec\\x9d\\x98\\xea\\xb0\\x80 \\xeb\\x8b\\xa4\\xec\\x8b\\x9c \\xec\\x88\\x98\\xeb\\xa9\\xb4 \\xec\\x9c\\x84\\xeb\\xa1\\x9c \\xec\\x98\\xa4\\xeb\\xa5\\xb4\\xea\\xb3\\xa0 \\xec\\x9e\\x88\\xeb\\x8b\\xa4.\\n\\n1\\xec\\x9d\\xbc \\xea\\xb5\\xad\\xed\\x9a\\x8c \\xec\\x9d\\x98\\xec\\x95\\x88\\xec\\xa0\\x95\\xeb\\xb3\\xb4\\xec\\x8b\\x9c\\xec\\x8a\\xa4\\xed\\x85\\x9c\\xec\\x97\\x90 \\xeb\\x94\\xb0\\xeb\\xa5\\xb4\\xeb\\xa9\\xb4 \\xec\\x97\\x84\\xed\\x83\\x9c\\xec\\x98\\x81 \\xea\\xb5\\xad\\xeb\\xaf\\xbc\\xec\\x9d\\x98\\xed\\x9e\\x98 \\xec\\x9d\\x98\\xec\\x9b\\x90\\xec\\x9d\\x80 \\xec\\xa7\\x80\\xeb\\x82\\x9c\\xeb\\x8b\\xac 26\\xec\\x9d\\xbc \\xec\\x98\\x88\\xea\\xb8\\x88\\xec\\x9e\\x90 \\xeb\\xb3\\xb4\\xed\\x98\\xb8 \\xed\\x95\\x9c\\xeb\\x8f\\x84\\xeb\\xa5\\xbc 1\\xec\\x9d\\xb8\\xeb\\x8b\\xb9 1\\xec\\x96\\xb5\\xec\\x9b\\x90 \\xec\\x9d\\xb4\\xec\\x83\\x81\\xec\\x9c\\xbc\\xeb\\xa1\\x9c \\xec\\x83\\x81\\xed\\x96\\xa5 \\xec\\xa1\\xb0\\xec\\xa0\\x95\\xed\\x95\\x98\\xeb\\x8a\\x94 \\xeb\\x82\\xb4\\xec\\x9a\\xa9\\xec\\x9d\\x98 \\xec\\x98\\x88\\xea\\xb8\\x88\\xec\\x9e\\x90\\xeb\\xb3\\xb4\\xed\\x98\\xb8\\xeb\\xb2\\x95 \\xea\\xb0\\x9c\\xec\\xa0\\x95\\xec\\x95\\x88\\xec\\x9d\\x84 \\xeb\\x8c\\x80\\xed\\x91\\x9c \\xeb\\xb0\\x9c\\xec\\x9d\\x98\\xed\\x96\\x88\\xeb\\x8b\\xa4. \\xea\\xb0\\x9c\\xec\\xa0\\x95\\xec\\x95\\x88\\xec\\x9d\\x80 \\xec\\x98\\x88\\xea\\xb8\\x88\\xeb\\xb3\\xb4\\xed\\x97\\x98\\xec\\x9c\\x84\\xec\\x9b\\x90\\xed\\x9a\\x8c\\xea\\xb0\\x80 5\\xeb\\x85\\x84\\xeb\\xa7\\x88\\xeb\\x8b\\xa4 \\xec\\x9d\\x98\\xea\\xb2\\xb0\\xec\\x9d\\x84 \\xed\\x86\\xb5\\xed\\x95\\xb4 \\xea\\xb8\\x88\\xec\\x9c\\xb5 \\xec\\x97\\x85\\xec\\xa2\\x85\\xeb\\xb3\\x84\\xeb\\xa1\\x9c \\xeb\\xb3\\xb4\\xed\\x97\\x98\\xea\\xb8\\x88 \\xec\\xa7\\x80\\xea\\xb8\\x89 \\xed\\x95\\x9c\\xeb\\x8f\\x84\\xeb\\xa5\\xbc \\xec\\xa0\\x95\\xed\\x95\\x98\\xeb\\x8f\\x84\\xeb\\xa1\\x9d \\xed\\x95\\x9c \\xea\\xb2\\x83\\xec\\x9d\\xb4 \\xed\\x8a\\xb9\\xec\\xa7\\x95\\xec\\x9d\\xb4\\xeb\\x8b\\xa4. \\xec\\xa7\\x80\\xeb\\x82\\x9c 25\\xec\\x9d\\xbc \\xec\\x8b\\xa0\\xec\\x98\\x81\\xeb\\x8c\\x80 \\xeb\\x8d\\x94\\xeb\\xb6\\x88\\xec\\x96\\xb4\\xeb\\xaf\\xbc\\xec\\xa3\\xbc\\xeb\\x8b\\xb9 \\xec\\x9d\\x98\\xec\\x9b\\x90\\xec\\x9d\\xb4 \\xeb\\x8c\\x80\\xed\\x91\\x9c \\xeb\\xb0\\x9c\\xec\\x9d\\x98\\xed\\x95\\x9c \\xec\\x98\\x88\\xea\\xb8\\x88\\xec\\x9e\\x90\\xeb\\xb3\\xb4\\xed\\x98\\xb8\\xeb\\xb2\\x95 \\xea\\xb0\\x9c\\xec\\xa0\\x95\\xec\\x95\\x88\\xeb\\x8f\\x84 \\xed\\x95\\xb5\\xec\\x8b\\xac\\xec\\x9d\\x80 \\xea\\xb0\\x99\\xeb\\x8b\\xa4. \\xec\\x9d\\xb4 \\xea\\xb0\\x9c\\xec\\xa0\\x95\\xec\\x95\\x88\\xeb\\x8f\\x84 \\xeb\\xa7\\x88\\xec\\xb0\\xac\\xea\\xb0\\x80\\xec\\xa7\\x80\\xeb\\xa1\\x9c \\xea\\xb8\\x88\\xec\\x9c\\xb5 \\xec\\x97\\x85\\xec\\xa2\\x85\\xeb\\xb3\\x84\\xeb\\xa1\\x9c \\xeb\\xb3\\xb4\\xed\\x97\\x98\\xea\\xb8\\x88 \\xed\\x95\\x9c\\xeb\\x8f\\x84\\xeb\\xa5\\xbc \\xec\\xb0\\xa8\\xeb\\x93\\xb1 \\xec\\xa0\\x81\\xec\\x9a\\xa9\\xed\\x95\\x9c\\xeb\\x8b\\xa4\\xeb\\x8a\\x94 \\xeb\\x82\\xb4\\xec\\x9a\\xa9\\xec\\x9d\\xb4 \\xeb\\x8b\\xb4\\xea\\xb2\\xbc\\xeb\\x8b\\xa4.\\n\\n\\xe2\\x80\\x98\\xec\\x97\\x85\\xec\\xa2\\x85\\xeb\\xb3\\x84 \\xec\\xb0\\xa8\\xeb\\x93\\xb1 \\xed\\x95\\x9c\\xeb\\x8f\\x84\\xe2\\x80\\x99\\xeb\\xa5\\xbc \\xeb\\x92\\x80\\xeb\\x8b\\xa4\\xeb\\x8a\\x94 \\xec\\xa0\\x90\\xec\\x97\\x90\\xec\\x84\\x9c \\xec\\x95\\x9e\\xec\\x84\\xa0 21\\xeb\\x8c\\x80 \\xea\\xb5\\xad\\xed\\x9a\\x8c\\xec\\x97\\x90\\xec\\x84\\x9c \\xeb\\xb0\\x9c\\xec\\x9d\\x98\\xeb\\x90\\x9c \\xec\\x98\\x88\\xea\\xb8\\x88\\xec\\x9e\\x90\\xeb\\xb3\\xb4\\xed\\x98\\xb8\\xeb\\xb2\\x95 \\xea\\xb0\\x9c\\xec\\xa0\\x95\\xec\\x95\\x88\\xea\\xb3\\xbc\\xeb\\x8a\\x94 \\xec\\xb0\\xa8\\xec\\x9d\\xb4\\xea\\xb0\\x80 \\xec\\x9e\\x88\\xeb\\x8b\\xa4. \\xec\\x98\\x88\\xea\\xb8\\x88\\xec\\x9e\\x90 \\xeb\\xb3\\xb4\\xed\\x98\\xb8 \\xed\\x95\\x9c\\xeb\\x8f\\x84 \\xec\\x83\\x81\\xed\\x96\\xa5 \\xeb\\x85\\xbc\\xec\\x9d\\x98\\xea\\xb0\\x80 \\xea\\xb1\\xb0\\xeb\\x93\\xad \\xec\\xa2\\x8c\\xec\\xb4\\x88\\xed\\x95\\x9c \\xea\\xb2\\x83\\xec\\x9d\\x80 2\\xea\\xb8\\x88\\xec\\x9c\\xb5\\xea\\xb6\\x8c\\xec\\x9c\\xbc\\xeb\\xa1\\x9c\\xec\\x9d\\x98 \\xec\\x9e\\x90\\xea\\xb8\\x88 \\xec\\x8f\\xa0\\xeb\\xa6\\xbc \\xec\\x9a\\xb0\\xeb\\xa0\\xa4 \\xeb\\x95\\x8c\\xeb\\xac\\xb8\\xec\\x9d\\xb4\\xec\\x97\\x88\\xeb\\x8b\\xa4. \\xeb\\xaa\\xa8\\xeb\\x93\\xa0 \\xec\\x97\\x85\\xeb\\xac\\xb4\\xea\\xb6\\x8c\\xec\\x97\\xad\\xec\\x9d\\x98 \\xec\\x98\\x88\\xea\\xb8\\x88\\xec\\x9e\\x90 \\xeb\\xb3\\xb4\\xed\\x98\\xb8 \\xed\\x95\\x9c\\xeb\\x8f\\x84\\xea\\xb0\\x80 1\\xec\\x96\\xb5\\xec\\x9b\\x90\\xec\\x9c\\xbc\\xeb\\xa1\\x9c \\xec\\x98\\xa4\\xeb\\xa5\\xb4\\xeb\\xa9\\xb4 \\xec\\x9d\\x80\\xed\\x96\\x89\\xeb\\xb3\\xb4\\xeb\\x8b\\xa4 \\xec\\x83\\x81\\xeb\\x8c\\x80\\xec\\xa0\\x81\\xec\\x9c\\xbc\\xeb\\xa1\\x9c \\xeb\\x86\\x92\\xec\\x9d\\x80 \\xea\\xb8\\x88\\xeb\\xa6\\xac\\xeb\\xa5\\xbc \\xec\\xa3\\xbc\\xeb\\x8a\\x94 \\xec\\xa0\\x80\\xec\\xb6\\x95\\xec\\x9d\\x80\\xed\\x96\\x89\\xea\\xb3\\xbc \\xeb\\x86\\x8d\\xed\\x98\\x91\\xc2\\xb7\\xec\\x83\\x88\\xeb\\xa7\\x88\\xec\\x9d\\x84\\xea\\xb8\\x88\\xea\\xb3\\xa0 \\xeb\\x93\\xb1 \\xec\\x83\\x81\\xed\\x98\\xb8\\xea\\xb8\\x88\\xec\\x9c\\xb5\\xec\\x97\\x90 \\xeb\\x8f\\x88\\xec\\x9d\\xb4 \\xeb\\xaa\\xb0\\xeb\\xa6\\xb4 \\xea\\xb0\\x80\\xeb\\x8a\\xa5\\xec\\x84\\xb1\\xec\\x9d\\xb4 \\xed\\x81\\xac\\xeb\\x8b\\xa4. \\xea\\xb7\\xb8\\xeb\\x9f\\xb0\\xeb\\x8d\\xb0 \\xec\\x9d\\xb4 \\xea\\xb8\\x88\\xec\\x9c\\xb5\\xec\\x82\\xac\\xeb\\x93\\xa4\\xec\\x9d\\xb4 \\xec\\xb7\\xa8\\xea\\xb8\\x89\\xed\\x95\\x98\\xeb\\x8a\\x94 \\xeb\\x8c\\x80\\xec\\xb6\\x9c \\xec\\xa0\\x88\\xeb\\xb0\\x98\\xea\\xb0\\x80\\xeb\\x9f\\x89\\xec\\x9d\\xb4 \\xeb\\xb6\\x80\\xec\\x8b\\xa4 \\xec\\x9c\\x84\\xed\\x97\\x98\\xec\\x9d\\xb4 \\xed\\x81\\xb0 \\xec\\x97\\x85\\xec\\xa2\\x85\\xec\\x97\\x90 \\xec\\x8f\\xa0\\xeb\\xa0\\xa4 \\xec\\x9e\\x88\\xec\\x96\\xb4 \\xec\\x9c\\x84\\xed\\x97\\x98 \\xea\\xb4\\x80\\xeb\\xa6\\xac\\xea\\xb0\\x80 \\xec\\xa0\\x9c\\xeb\\x8c\\x80\\xeb\\xa1\\x9c \\xec\\x9d\\xb4\\xeb\\xa4\\x84\\xec\\xa7\\x80\\xec\\xa7\\x80 \\xec\\x95\\x8a\\xec\\x9d\\x84 \\xec\\x88\\x98 \\xec\\x9e\\x88\\xeb\\x8b\\xa4\\xeb\\x8a\\x94 \\xea\\xb2\\x83\\xec\\x9d\\xb4 \\xec\\x9d\\xb4\\xec\\x9c\\xa0\\xeb\\x8b\\xa4. \\xec\\xa0\\x80\\xec\\xb6\\x95\\xec\\x9d\\x80\\xed\\x96\\x89\\xea\\xb3\\xbc \\xec\\x83\\x81\\xed\\x98\\xb8\\xea\\xb8\\x88\\xec\\x9c\\xb5\\xec\\x9d\\x98 \\xec\\xa7\\x80\\xeb\\x82\\x9c\\xed\\x95\\xb4 3\\xeb\\xb6\\x84\\xea\\xb8\\xb0 \\xeb\\xa7\\x90 \\xea\\xb1\\xb4\\xec\\x84\\xa4\\xc2\\xb7\\xeb\\xb6\\x80\\xeb\\x8f\\x99\\xec\\x82\\xb0\\xec\\x97\\x85 \\xeb\\x8c\\x80\\xec\\xb6\\x9c \\xeb\\xb9\\x84\\xec\\xa4\\x91\\xec\\x9d\\x80 \\xea\\xb0\\x81\\xea\\xb0\\x81 50%, 46.8%\\xeb\\x8b\\xa4. \\xeb\\xb0\\x98\\xeb\\xa9\\xb4 \\xeb\\xb6\\x80\\xeb\\x8f\\x99\\xec\\x82\\xb0 \\xed\\x94\\x84\\xeb\\xa1\\x9c\\xec\\xa0\\x9d\\xed\\x8a\\xb8\\xed\\x8c\\x8c\\xec\\x9d\\xb8\\xeb\\x82\\xb8\\xec\\x8b\\xb1(PF) \\xeb\\x8c\\x80\\xec\\xb6\\x9c \\xec\\x97\\xb0\\xec\\xb2\\xb4\\xec\\x9c\\xa8\\xec\\x9d\\x80 5.56%, 4.18%\\xeb\\xa1\\x9c \\xeb\\x86\\x92\\xec\\x9d\\x80 \\xec\\x88\\x98\\xec\\xa4\\x80\\xec\\x9d\\xb4\\xeb\\x8b\\xa4.\\n\\n\\n\\n<ImageTag>https://img4.daumcdn.net/thumb/R658x0.q70/?fname=https://t1.daumcdn.net/news/202407/01/chosunbiz/20240701060155025rzvq.jpg</ImageTag>\\n\\xea\\xb7\\xb8\\xeb\\x9e\\x98\\xed\\x94\\xbd=\\xec\\xa0\\x95\\xec\\x84\\x9c\\xed\\x9d\\xac\\n\\n\\xec\\x9d\\xb4\\xeb\\x9f\\xac\\xed\\x95\\x9c \\xeb\\xac\\xb8\\xec\\xa0\\x9c\\xec\\xa0\\x90\\xec\\x9d\\x84 \\xeb\\xb3\\xb4\\xec\\x99\\x84\\xed\\x95\\x98\\xea\\xb8\\xb0 \\xec\\x9c\\x84\\xed\\x95\\xb4 \\xea\\xb3\\xa0\\xec\\x95\\x88\\xed\\x95\\x9c \\xeb\\xb0\\xa9\\xec\\x95\\x88\\xec\\x9d\\xb4 \\xec\\xb0\\xa8\\xeb\\x93\\xb1 \\xed\\x95\\x9c\\xeb\\x8f\\x84 \\xec\\xa0\\x81\\xec\\x9a\\xa9\\xec\\x9d\\xb4\\xeb\\x8b\\xa4. \\xeb\\xaf\\xb8\\xea\\xb5\\xad \\xeb\\x93\\xb1 \\xec\\x84\\xa0\\xec\\xa7\\x84\\xea\\xb5\\xad\\xeb\\x8f\\x84 \\xec\\x97\\x85\\xea\\xb6\\x8c\\xeb\\xb3\\x84\\xeb\\xa1\\x9c \\xeb\\xb3\\xb4\\xed\\x98\\xb8 \\xed\\x95\\x9c\\xeb\\x8f\\x84\\xec\\x97\\x90 \\xec\\xb0\\xa8\\xeb\\x93\\xb1\\xec\\x9d\\x84 \\xeb\\x91\\x90\\xea\\xb3\\xa0 \\xec\\x9e\\x88\\xeb\\x8b\\xa4. \\xeb\\xaf\\xb8\\xea\\xb5\\xad\\xec\\x9d\\x98 \\xea\\xb2\\xbd\\xec\\x9a\\xb0 \\xec\\x9d\\x80\\xed\\x96\\x89\\xec\\x9d\\x98 \\xec\\x98\\x88\\xea\\xb8\\x88\\xec\\x9e\\x90 \\xeb\\xb3\\xb4\\xed\\x98\\xb8 \\xed\\x95\\x9c\\xeb\\x8f\\x84\\xeb\\x8a\\x94 25\\xeb\\xa7\\x8c\\xeb\\x8b\\xac\\xeb\\x9f\\xac(\\xec\\x95\\xbd 3\\xec\\x96\\xb54500\\xeb\\xa7\\x8c\\xec\\x9b\\x90)\\xec\\x9d\\xb8\\xeb\\x8d\\xb0, \\xec\\x83\\x9d\\xeb\\xaa\\x85\\xeb\\xb3\\xb4\\xed\\x97\\x98\\xec\\x82\\xac\\xec\\x9d\\x98 \\xeb\\xb3\\xb4\\xed\\x98\\xb8 \\xed\\x95\\x9c\\xeb\\x8f\\x84\\xeb\\x8a\\x94 10\\xeb\\xa7\\x8c~50\\xeb\\xa7\\x8c\\xeb\\x8b\\xac\\xeb\\x9f\\xac\\xeb\\x8c\\x80\\xeb\\x8b\\xa4. \\xea\\xb5\\xad\\xed\\x9a\\x8c\\xec\\x9e\\x85\\xeb\\xb2\\x95\\xec\\xa1\\xb0\\xec\\x82\\xac\\xec\\xb2\\x98\\xeb\\x8a\\x94 \\xec\\xa7\\x80\\xeb\\x82\\x9c 2\\xec\\x9b\\x94 \\xeb\\xb0\\x9c\\xed\\x91\\x9c\\xed\\x95\\x9c \\xeb\\xb3\\xb4\\xea\\xb3\\xa0\\xec\\x84\\x9c\\xec\\x97\\x90\\xec\\x84\\x9c \\xe2\\x80\\x9c\\xeb\\xaa\\xa8\\xeb\\x93\\xa0 \\xec\\x97\\x85\\xeb\\xac\\xb4\\xea\\xb6\\x8c\\xec\\x97\\xad\\xec\\x9d\\x98 \\xec\\x98\\x88\\xea\\xb8\\x88\\xec\\x9e\\x90 \\xeb\\xb3\\xb4\\xed\\x98\\xb8 \\xed\\x95\\x9c\\xeb\\x8f\\x84\\xeb\\xa5\\xbc \\xeb\\x8f\\x99\\xec\\x9d\\xbc\\xed\\x95\\x9c \\xec\\x88\\x98\\xec\\xa4\\x80\\xec\\x9c\\xbc\\xeb\\xa1\\x9c \\xec\\x83\\x81\\xed\\x96\\xa5\\xed\\x95\\x98\\xeb\\x8a\\x94 \\xea\\xb2\\x83\\xec\\x9d\\x80 \\xea\\xb8\\x88\\xec\\x9c\\xb5 \\xec\\x8b\\x9c\\xec\\x9e\\xa5\\xec\\x9d\\x98 \\xeb\\xb6\\x88\\xec\\x95\\x88\\xec\\xa0\\x95\\xec\\x9d\\x84 \\xec\\xb4\\x88\\xeb\\x9e\\x98\\xed\\x95\\xa0 \\xec\\x88\\x98 \\xec\\x9e\\x88\\xeb\\x8b\\xa4\\xe2\\x80\\x9d\\xeb\\xa9\\xb0 \\xe2\\x80\\x9c\\xec\\x9d\\x80\\xed\\x96\\x89\\xec\\x9d\\x98 \\xeb\\xb3\\xb4\\xed\\x98\\xb8 \\xed\\x95\\x9c\\xeb\\x8f\\x84\\xeb\\x8a\\x94 \\xec\\x83\\x81\\xed\\x96\\xa5\\xed\\x95\\x98\\xeb\\x90\\x98, \\xec\\xa0\\x80\\xec\\xb6\\x95\\xec\\x9d\\x80\\xed\\x96\\x89\\xc2\\xb7\\xec\\x83\\x81\\xed\\x98\\xb8\\xea\\xb8\\x88\\xec\\x9c\\xb5 \\xeb\\x93\\xb1\\xec\\x9d\\x98 \\xed\\x95\\x9c\\xeb\\x8f\\x84\\xeb\\x8a\\x94 \\xec\\x9c\\xa0\\xec\\xa7\\x80\\xed\\x95\\x98\\xeb\\x8a\\x94 \\xea\\xb2\\x8c \\xed\\x95\\xa9\\xeb\\xa6\\xac\\xec\\xa0\\x81\\xec\\x9d\\xb4\\xeb\\x8b\\xa4\\xe2\\x80\\x9d\\xeb\\x9d\\xbc\\xea\\xb3\\xa0 \\xed\\x96\\x88\\xeb\\x8b\\xa4.\\n\\n\\xea\\xb8\\x88\\xec\\x9c\\xb5 \\xeb\\x8b\\xb9\\xea\\xb5\\xad\\xec\\x9d\\x80 \\xec\\x9c\\xa0\\xeb\\xb3\\xb4\\xec\\xa0\\x81\\xec\\x9d\\xb8 \\xec\\x9e\\x85\\xec\\x9e\\xa5\\xec\\x9d\\xb4\\xeb\\x8b\\xa4. \\xec\\xa7\\x80\\xeb\\x82\\x9c 2\\xeb\\x85\\x84\\xec\\x97\\xac\\xec\\x97\\x90 \\xea\\xb1\\xb8\\xec\\xb3\\x90 \\xeb\\xa7\\x88\\xeb\\xac\\xb4\\xeb\\xa6\\xac \\xec\\xa7\\x80\\xec\\x9d\\x80 \\xec\\x82\\xac\\xec\\x95\\x88\\xec\\x9d\\x84 \\xeb\\x8b\\xa4\\xec\\x8b\\x9c \\xec\\x9b\\x90\\xec\\xa0\\x90\\xec\\x97\\x90\\xec\\x84\\x9c \\xea\\xb2\\x80\\xed\\x86\\xa0\\xed\\x95\\xb4\\xec\\x95\\xbc \\xed\\x95\\x98\\xeb\\x8a\\x94 \\xec\\x83\\x81\\xed\\x99\\xa9\\xec\\x9d\\xb4\\xea\\xb8\\xb0 \\xeb\\x95\\x8c\\xeb\\xac\\xb8\\xec\\x9d\\xb4\\xeb\\x8b\\xa4. \\xea\\xb8\\x88\\xec\\x9c\\xb5\\xec\\x9c\\x84\\xec\\x9b\\x90\\xed\\x9a\\x8c\\xec\\x99\\x80 \\xec\\x98\\x88\\xeb\\xb3\\xb4\\xeb\\x8a\\x94 2022\\xeb\\x85\\x84 3\\xec\\x9b\\x94 \\xeb\\xaf\\xbc\\xea\\xb4\\x80 \\xed\\x95\\xa9\\xeb\\x8f\\x99 \\xec\\x98\\x88\\xea\\xb8\\x88\\xec\\x9e\\x90 \\xeb\\xb3\\xb4\\xed\\x98\\xb8 \\xec\\xa0\\x9c\\xeb\\x8f\\x84 \\xea\\xb0\\x9c\\xec\\x84\\xa0 \\xed\\x83\\x9c\\xec\\x8a\\xa4\\xed\\x81\\xac\\xed\\x8f\\xac\\xec\\x8a\\xa4(TF)\\xeb\\xa5\\xbc \\xea\\xbe\\xb8\\xeb\\xa6\\xb0 \\xed\\x9b\\x84 \\xec\\x97\\x85\\xeb\\xac\\xb4\\xea\\xb6\\x8c\\xec\\x97\\xad\\xeb\\xb3\\x84 \\xeb\\x85\\xbc\\xec\\x9d\\x98\\xec\\x99\\x80 \\xec\\x99\\xb8\\xeb\\xb6\\x80 \\xec\\x97\\xb0\\xea\\xb5\\xac\\xec\\x9a\\xa9\\xec\\x97\\xad\\xec\\x9d\\x84 \\xea\\xb1\\xb0\\xec\\xb3\\x90 \\xed\\x98\\x84\\xed\\x96\\x89 \\xec\\x9c\\xa0\\xec\\xa7\\x80\\xeb\\xa1\\x9c \\xec\\xb5\\x9c\\xec\\xa2\\x85 \\xea\\xb2\\xb0\\xeb\\xa1\\xa0\\xec\\x9d\\x84 \\xeb\\x83\\x88\\xeb\\x8b\\xa4. \\xea\\xb8\\x88\\xec\\x9c\\xb5\\xec\\x9c\\x84\\xeb\\x8a\\x94 \\xec\\xa7\\x80\\xeb\\x82\\x9c\\xed\\x95\\xb4 10\\xec\\x9b\\x94 \\xec\\x9d\\xb4\\xeb\\x9f\\xb0 \\xec\\x9d\\x98\\xea\\xb2\\xac\\xec\\x9d\\x84 \\xeb\\x8b\\xb4\\xec\\x9d\\x80 \\xeb\\xb3\\xb4\\xea\\xb3\\xa0\\xec\\x84\\x9c\\xeb\\xa5\\xbc \\xea\\xb5\\xad\\xed\\x9a\\x8c\\xec\\x97\\x90 \\xec\\xa0\\x9c\\xec\\xb6\\x9c\\xed\\x96\\x88\\xeb\\x8b\\xa4.\\n\\n\\xea\\xb8\\x88\\xec\\x9c\\xb5\\xec\\x9c\\x84\\xeb\\x8a\\x94 \\xeb\\x8b\\xb9\\xec\\x8b\\x9c \\xeb\\xb3\\xb4\\xea\\xb3\\xa0\\xec\\x84\\x9c\\xec\\x97\\x90\\xec\\x84\\x9c \\xe2\\x80\\x9c\\xec\\x98\\x88\\xea\\xb8\\x88\\xec\\x9e\\x90 \\xeb\\xb3\\xb4\\xed\\x98\\xb8 \\xed\\x95\\x9c\\xeb\\x8f\\x84 \\xec\\x83\\x81\\xed\\x96\\xa5\\xec\\x9d\\x98 \\xed\\x8e\\xb8\\xec\\x9d\\xb5\\xec\\x9d\\x80 \\xec\\x86\\x8c\\xec\\x88\\x98 5000\\xeb\\xa7\\x8c\\xec\\x9b\\x90 \\xec\\xb4\\x88\\xea\\xb3\\xbc \\xec\\x98\\x88\\xea\\xb8\\x88\\xec\\x9e\\x90(1.9%)\\xec\\x97\\x90\\xeb\\xa7\\x8c \\xea\\xb5\\xad\\xed\\x95\\x9c\\xeb\\x90\\xa0 \\xec\\x88\\x98 \\xec\\x9e\\x88\\xeb\\x8b\\xa4\\xe2\\x80\\x9d\\xea\\xb3\\xa0 \\xed\\x96\\x88\\xeb\\x8b\\xa4. \\xeb\\x98\\x90 \\xe2\\x80\\x9c\\xea\\xb8\\x88\\xec\\x9c\\xb5\\xec\\x82\\xac\\xea\\xb0\\x80 \\xec\\x98\\x88\\xeb\\xb3\\xb4\\xec\\x97\\x90 \\xeb\\x82\\xb4\\xeb\\x8a\\x94 \\xec\\x98\\x88\\xea\\xb8\\x88\\xeb\\xb3\\xb4\\xed\\x97\\x98\\xeb\\xa3\\x8c\\xeb\\x8a\\x94 \\xec\\xb5\\x9c\\xeb\\x8c\\x80 27.3% \\xec\\x83\\x81\\xec\\x8a\\xb9\\xed\\x95\\x9c\\xeb\\x8b\\xa4\\xe2\\x80\\x9d\\xeb\\xa9\\xb0 \\xe2\\x80\\x9c\\xec\\x98\\x88\\xeb\\xb3\\xb4\\xeb\\xa3\\x8c\\xea\\xb0\\x80 \\xec\\x9d\\xb8\\xec\\x83\\x81\\xeb\\x8f\\xbc \\xea\\xb8\\x88\\xec\\x9c\\xb5\\xec\\x86\\x8c\\xeb\\xb9\\x84\\xec\\x9e\\x90\\xec\\x97\\x90\\xea\\xb2\\x8c \\xeb\\xb6\\x80\\xeb\\x8b\\xb4\\xec\\x9d\\xb4 \\xeb\\x90\\xa0 \\xec\\x88\\x98 \\xec\\x9e\\x88\\xeb\\x8b\\xa4\\xe2\\x80\\x9d\\xea\\xb3\\xa0 \\xed\\x96\\x88\\xeb\\x8b\\xa4. \\xea\\xb8\\x88\\xec\\x9c\\xb5\\xec\\x82\\xac\\xea\\xb0\\x80 \\xeb\\x8c\\x80\\xec\\xb6\\x9c\\xea\\xb8\\x88\\xeb\\xa6\\xac \\xec\\x9d\\xb8\\xec\\x83\\x81 \\xeb\\x93\\xb1\\xec\\x9d\\x84 \\xed\\x86\\xb5\\xed\\x95\\xb4 \\xea\\xb8\\x88\\xec\\x9c\\xb5\\xec\\x86\\x8c\\xeb\\xb9\\x84\\xec\\x9e\\x90\\xec\\x97\\x90\\xea\\xb2\\x8c \\xeb\\xb6\\x80\\xeb\\x8b\\xb4\\xec\\x9d\\x84 \\xec\\xa0\\x84\\xea\\xb0\\x80\\xed\\x95\\xa0 \\xec\\x88\\x98 \\xec\\x9e\\x88\\xeb\\x8b\\xa4\\xeb\\x8a\\x94 \\xea\\xb2\\x83\\xec\\x9d\\xb4\\xeb\\x8b\\xa4.\\n\\n\\xea\\xb5\\xad\\xed\\x9a\\x8c \\xec\\xa0\\x95\\xeb\\xac\\xb4\\xec\\x9c\\x84\\xec\\x9b\\x90\\xed\\x9a\\x8c \\xec\\x86\\x8c\\xec\\x86\\x8d\\xec\\x9d\\x98 \\xed\\x95\\x9c \\xec\\x9d\\x98\\xec\\x9b\\x90\\xec\\x8b\\xa4 \\xea\\xb4\\x80\\xea\\xb3\\x84\\xec\\x9e\\x90\\xeb\\x8a\\x94 \\xe2\\x80\\x9c\\xea\\xb8\\x88\\xec\\x9c\\xb5\\xec\\x9c\\x84\\xea\\xb0\\x80 \\xec\\x9a\\xb0\\xeb\\xa0\\xa4\\xed\\x95\\x98\\xeb\\x8a\\x94 \\xeb\\x82\\xb4\\xec\\x9a\\xa9 \\xec\\xa4\\x91 \\xec\\x9d\\xbc\\xeb\\xb6\\x80\\xeb\\x8a\\x94 \\xec\\x97\\x85\\xeb\\xac\\xb4\\xea\\xb6\\x8c\\xec\\x97\\xad\\xeb\\xb3\\x84 \\xec\\xb0\\xa8\\xeb\\x93\\xb1 \\xed\\x95\\x9c\\xeb\\x8f\\x84 \\xec\\xa0\\x81\\xec\\x9a\\xa9\\xec\\x9d\\x84 \\xed\\x86\\xb5\\xed\\x95\\xb4 \\xed\\x95\\xb4\\xea\\xb2\\xb0\\xed\\x95\\xa0 \\xec\\x88\\x98 \\xec\\x9e\\x88\\xeb\\x8b\\xa4\\xe2\\x80\\x9d\\xeb\\xa9\\xb0 \\xe2\\x80\\x9c\\xec\\x97\\xac\\xec\\x95\\xbc \\xec\\x9d\\xb4\\xea\\xb2\\xac\\xec\\x9d\\xb4 \\xec\\x97\\x86\\xeb\\x8a\\x94 \\xec\\x95\\x88\\xea\\xb1\\xb4\\xec\\x9d\\xb8 \\xeb\\xa7\\x8c\\xed\\x81\\xbc \\xec\\x98\\xac\\xed\\x95\\xb4 \\xec\\x95\\x88\\xec\\x97\\x90 \\xec\\x98\\x88\\xea\\xb8\\x88\\xec\\x9e\\x90\\xeb\\xb3\\xb4\\xed\\x98\\xb8\\xec\\xa0\\x9c\\xeb\\x8f\\x84 \\xea\\xb0\\x9c\\xec\\xa0\\x95\\xec\\x9d\\xb4 \\xea\\xb0\\x80\\xeb\\x8a\\xa5\\xed\\x95\\xa0 \\xea\\xb2\\x83\\xec\\x9c\\xbc\\xeb\\xa1\\x9c \\xeb\\xb3\\xb4\\xea\\xb3\\xa0 \\xec\\x9e\\x88\\xeb\\x8b\\xa4\\xe2\\x80\\x9d\\xea\\xb3\\xa0 \\xed\\x96\\x88\\xeb\\x8b\\xa4.\\n\\n- Copyright \\xe2\\x93\\x92 \\xec\\xa1\\xb0\\xec\\x84\\xa0\\xeb\\xb9\\x84\\xec\\xa6\\x88 & Chosun.com -'"
      ]
     },
     "execution_count": 182,
     "metadata": {},
     "output_type": "execute_result"
    }
   ],
   "source": [
    "resp = requests.get(results[5])\n",
    "resp.content"
   ]
  },
  {
   "cell_type": "code",
   "execution_count": null,
   "metadata": {},
   "outputs": [],
   "source": []
  },
  {
   "cell_type": "code",
   "execution_count": 192,
   "metadata": {},
   "outputs": [
    {
     "data": {
      "text/plain": [
       "b'finance'"
      ]
     },
     "execution_count": 192,
     "metadata": {},
     "output_type": "execute_result"
    }
   ],
   "source": [
    "resp = requests.get(results[0])\n",
    "resp.content"
   ]
  },
  {
   "cell_type": "code",
   "execution_count": 193,
   "metadata": {},
   "outputs": [
    {
     "name": "stdout",
     "output_type": "stream",
     "text": [
      "200\n",
      "200\n",
      "200\n",
      "200\n",
      "200\n",
      "200\n",
      "200\n",
      "200\n",
      "200\n",
      "200\n",
      "200\n"
     ]
    }
   ],
   "source": [
    "for resp in results:\n",
    "    a = requests.delete(resp)\n",
    "    print(a.status_code)"
   ]
  },
  {
   "cell_type": "code",
   "execution_count": null,
   "metadata": {},
   "outputs": [],
   "source": []
  },
  {
   "cell_type": "code",
   "execution_count": null,
   "metadata": {},
   "outputs": [],
   "source": []
  }
 ],
 "metadata": {
  "kernelspec": {
   "display_name": "preprocess_venv",
   "language": "python",
   "name": "python3"
  },
  "language_info": {
   "codemirror_mode": {
    "name": "ipython",
    "version": 3
   },
   "file_extension": ".py",
   "mimetype": "text/x-python",
   "name": "python",
   "nbconvert_exporter": "python",
   "pygments_lexer": "ipython3",
   "version": "3.12.4"
  }
 },
 "nbformat": 4,
 "nbformat_minor": 2
}
