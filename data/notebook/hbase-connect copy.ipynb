{
 "cells": [
  {
   "cell_type": "code",
   "execution_count": 101,
   "metadata": {},
   "outputs": [
    {
     "name": "stdout",
     "output_type": "stream",
     "text": [
      "connection success\n"
     ]
    },
    {
     "ename": "DatabaseError",
     "evalue": "org.apache.phoenix.schema.TableAlreadyExistsException: ERROR 1013 (42M04): Table already exists. tableName=PH_INDUSTRY_NEWS",
     "output_type": "error",
     "traceback": [
      "\u001b[1;31m---------------------------------------------------------------------------\u001b[0m",
      "\u001b[1;31mException\u001b[0m                                 Traceback (most recent call last)",
      "File \u001b[1;32mPhoenixPreparedStatement.java:178\u001b[0m, in \u001b[0;36morg.apache.phoenix.jdbc.PhoenixPreparedStatement.execute\u001b[1;34m()\u001b[0m\n",
      "\u001b[1;31mException\u001b[0m: Java Exception",
      "\nThe above exception was the direct cause of the following exception:\n",
      "\u001b[1;31morg.apache.phoenix.schema.TableAlreadyExistsException\u001b[0mTraceback (most recent call last)",
      "File \u001b[1;32mC:\\SSAFY\\S11P21C207\\data\\preprocess_server\\preprocess_venv\\Lib\\site-packages\\jaydebeapi\\__init__.py:534\u001b[0m, in \u001b[0;36mCursor.execute\u001b[1;34m(self, operation, parameters)\u001b[0m\n\u001b[0;32m    533\u001b[0m \u001b[38;5;28;01mtry\u001b[39;00m:\n\u001b[1;32m--> 534\u001b[0m     is_rs \u001b[38;5;241m=\u001b[39m \u001b[38;5;28;43mself\u001b[39;49m\u001b[38;5;241;43m.\u001b[39;49m\u001b[43m_prep\u001b[49m\u001b[38;5;241;43m.\u001b[39;49m\u001b[43mexecute\u001b[49m\u001b[43m(\u001b[49m\u001b[43m)\u001b[49m\n\u001b[0;32m    535\u001b[0m \u001b[38;5;28;01mexcept\u001b[39;00m:\n",
      "\u001b[1;31morg.apache.phoenix.schema.TableAlreadyExistsException\u001b[0m: org.apache.phoenix.schema.TableAlreadyExistsException: ERROR 1013 (42M04): Table already exists. tableName=PH_INDUSTRY_NEWS",
      "\nDuring handling of the above exception, another exception occurred:\n",
      "\u001b[1;31mDatabaseError\u001b[0m                             Traceback (most recent call last)",
      "Cell \u001b[1;32mIn[101], line 55\u001b[0m\n\u001b[0;32m     51\u001b[0m create_index_industry \u001b[38;5;241m=\u001b[39m \u001b[38;5;124m\"\u001b[39m\u001b[38;5;124mCREATE INDEX idx_industry  ON ph_industry_news (industry)\u001b[39m\u001b[38;5;124m\"\u001b[39m\n\u001b[0;32m     54\u001b[0m \u001b[38;5;66;03m# 테이블 생성 및 인덱스 적용\u001b[39;00m\n\u001b[1;32m---> 55\u001b[0m \u001b[43mcursor\u001b[49m\u001b[38;5;241;43m.\u001b[39;49m\u001b[43mexecute\u001b[49m\u001b[43m(\u001b[49m\u001b[43mcreate_table_query\u001b[49m\u001b[43m)\u001b[49m\n\u001b[0;32m     56\u001b[0m cursor\u001b[38;5;241m.\u001b[39mexecute(create_index_datetime)\n\u001b[0;32m     57\u001b[0m \u001b[38;5;28mprint\u001b[39m(\u001b[38;5;124m'\u001b[39m\u001b[38;5;124m1\u001b[39m\u001b[38;5;124m'\u001b[39m)\n",
      "File \u001b[1;32mC:\\SSAFY\\S11P21C207\\data\\preprocess_server\\preprocess_venv\\Lib\\site-packages\\jaydebeapi\\__init__.py:536\u001b[0m, in \u001b[0;36mCursor.execute\u001b[1;34m(self, operation, parameters)\u001b[0m\n\u001b[0;32m    534\u001b[0m     is_rs \u001b[38;5;241m=\u001b[39m \u001b[38;5;28mself\u001b[39m\u001b[38;5;241m.\u001b[39m_prep\u001b[38;5;241m.\u001b[39mexecute()\n\u001b[0;32m    535\u001b[0m \u001b[38;5;28;01mexcept\u001b[39;00m:\n\u001b[1;32m--> 536\u001b[0m     \u001b[43m_handle_sql_exception\u001b[49m\u001b[43m(\u001b[49m\u001b[43m)\u001b[49m\n\u001b[0;32m    537\u001b[0m \u001b[38;5;28;01mif\u001b[39;00m is_rs:\n\u001b[0;32m    538\u001b[0m     \u001b[38;5;28mself\u001b[39m\u001b[38;5;241m.\u001b[39m_rs \u001b[38;5;241m=\u001b[39m \u001b[38;5;28mself\u001b[39m\u001b[38;5;241m.\u001b[39m_prep\u001b[38;5;241m.\u001b[39mgetResultSet()\n",
      "File \u001b[1;32mC:\\SSAFY\\S11P21C207\\data\\preprocess_server\\preprocess_venv\\Lib\\site-packages\\jaydebeapi\\__init__.py:165\u001b[0m, in \u001b[0;36m_handle_sql_exception_jpype\u001b[1;34m()\u001b[0m\n\u001b[0;32m    162\u001b[0m \u001b[38;5;28;01melse\u001b[39;00m:\n\u001b[0;32m    163\u001b[0m     exc_type \u001b[38;5;241m=\u001b[39m InterfaceError\n\u001b[1;32m--> 165\u001b[0m \u001b[43mreraise\u001b[49m\u001b[43m(\u001b[49m\u001b[43mexc_type\u001b[49m\u001b[43m,\u001b[49m\u001b[43m \u001b[49m\u001b[43mexc_info\u001b[49m\u001b[43m[\u001b[49m\u001b[38;5;241;43m1\u001b[39;49m\u001b[43m]\u001b[49m\u001b[43m,\u001b[49m\u001b[43m \u001b[49m\u001b[43mexc_info\u001b[49m\u001b[43m[\u001b[49m\u001b[38;5;241;43m2\u001b[39;49m\u001b[43m]\u001b[49m\u001b[43m)\u001b[49m\n",
      "File \u001b[1;32mC:\\SSAFY\\S11P21C207\\data\\preprocess_server\\preprocess_venv\\Lib\\site-packages\\jaydebeapi\\__init__.py:57\u001b[0m, in \u001b[0;36mreraise\u001b[1;34m(tp, value, tb)\u001b[0m\n\u001b[0;32m     55\u001b[0m     value \u001b[38;5;241m=\u001b[39m tp(value)\n\u001b[0;32m     56\u001b[0m \u001b[38;5;28;01mif\u001b[39;00m tb:\n\u001b[1;32m---> 57\u001b[0m     \u001b[38;5;28;01mraise\u001b[39;00m value\u001b[38;5;241m.\u001b[39mwith_traceback(tb)\n\u001b[0;32m     58\u001b[0m \u001b[38;5;28;01mraise\u001b[39;00m value\n",
      "File \u001b[1;32mC:\\SSAFY\\S11P21C207\\data\\preprocess_server\\preprocess_venv\\Lib\\site-packages\\jaydebeapi\\__init__.py:534\u001b[0m, in \u001b[0;36mCursor.execute\u001b[1;34m(self, operation, parameters)\u001b[0m\n\u001b[0;32m    532\u001b[0m \u001b[38;5;28mself\u001b[39m\u001b[38;5;241m.\u001b[39m_set_stmt_parms(\u001b[38;5;28mself\u001b[39m\u001b[38;5;241m.\u001b[39m_prep, parameters)\n\u001b[0;32m    533\u001b[0m \u001b[38;5;28;01mtry\u001b[39;00m:\n\u001b[1;32m--> 534\u001b[0m     is_rs \u001b[38;5;241m=\u001b[39m \u001b[38;5;28;43mself\u001b[39;49m\u001b[38;5;241;43m.\u001b[39;49m\u001b[43m_prep\u001b[49m\u001b[38;5;241;43m.\u001b[39;49m\u001b[43mexecute\u001b[49m\u001b[43m(\u001b[49m\u001b[43m)\u001b[49m\n\u001b[0;32m    535\u001b[0m \u001b[38;5;28;01mexcept\u001b[39;00m:\n\u001b[0;32m    536\u001b[0m     _handle_sql_exception()\n",
      "\u001b[1;31mDatabaseError\u001b[0m: org.apache.phoenix.schema.TableAlreadyExistsException: ERROR 1013 (42M04): Table already exists. tableName=PH_INDUSTRY_NEWS"
     ]
    }
   ],
   "source": [
    "import jaydebeapi\n",
    "import os\n",
    "\n",
    "# 각 JAR 파일의 경로 설정\n",
    "phoenix_jar_path = '../notebook/jdbc/phoenix-client-embedded-hbase-2.5-5.1.3.jar'\n",
    "reload4j_jar_path = '../notebook/jdbc/reload4j-1.2.24.jar'\n",
    "slf4j_reload4j_jar_path = '../notebook/jdbc/slf4j-reload4j-1.7.36.jar'\n",
    "sqlline_jar_path = '../notebook/jdbc/sqlline-1.9.0-jar-with-dependencies.jar'\n",
    "\n",
    "# 클래스패스에 모든 JAR 파일을 추가\n",
    "# Windows 클래스패스 구분자: : 대신 ;를 사용하여 JAR 파일들을 구분했습니다. linux 에서는 :로 구분\n",
    "classpath = f\"{phoenix_jar_path};{reload4j_jar_path};{slf4j_reload4j_jar_path};{sqlline_jar_path}\"\n",
    "\n",
    "# JDBC URL 및 환경 변수 설정\n",
    "jdbc_url = \"jdbc:phoenix:34.64.230.82,34.22.71.84,34.64.42.191:2181:/hbase\"\n",
    "os.environ['JAVA_HOME'] = 'C:/Program Files/Java/jre/bin/server'  # JDK 설치 경로\n",
    "\n",
    "# JayDeBeAPI를 사용하여 Phoenix에 연결\n",
    "conn = jaydebeapi.connect(\n",
    "    \"org.apache.phoenix.jdbc.PhoenixDriver\",  # 드라이버 클래스 이름\n",
    "    jdbc_url,  # JDBC URL\n",
    "    [\"\", \"\"],  # 사용자명 및 비밀번호, 비워도 됨\n",
    "    classpath  # 클래스패스에 추가된 JAR 파일들\n",
    ")\n",
    "\n",
    "# 커서 생성\n",
    "cursor = conn.cursor()\n",
    "print(\"connection success\")\n",
    "\n",
    "# (테이블 생성 및 기타 작업 가능)\n",
    "\n",
    "# 테이블 생성 쿼리 (salt 적용)\n",
    "create_table_query = \"\"\"\n",
    "CREATE TABLE ph_industry_news (\n",
    "    newsId VARCHAR PRIMARY KEY,\n",
    "    title VARCHAR,\n",
    "    subtitle VARCHAR,\n",
    "    media VARCHAR,\n",
    "    description VARCHAR,\n",
    "    thumbnail VARCHAR,\n",
    "    uploadDatetime TIMESTAMP,\n",
    "    article VARCHAR,\n",
    "    industry VARCHAR,\n",
    "    sentiment INTEGER\n",
    ")\n",
    "SALT_BUCKETS = 15\n",
    "\"\"\"\n",
    "\n",
    "# 인덱스 생성 쿼리\n",
    "create_index_datetime = \"CREATE INDEX idx_uploadDatetime  ON ph_industry_news (uploadDatetime)\"\n",
    "create_index_industry = \"CREATE INDEX idx_industry  ON ph_industry_news (industry)\"\n",
    "\n",
    "\n",
    "# 테이블 생성 및 인덱스 적용\n",
    "cursor.execute(create_table_query)\n",
    "cursor.execute(create_index_datetime)\n",
    "print('1')\n",
    "cursor.execute(create_index_industry)\n",
    "\n",
    "# 커밋 및 연결 종료\n",
    "conn.commit()\n",
    "cursor.close()\n",
    "conn.close()\n",
    "\n",
    "print(\"Table and indexes created successfully!\")\n",
    "\n",
    "\n",
    "# 연결 종료\n",
    "cursor.close()\n",
    "conn.close()\n",
    "\n",
    "print(\"Connection successful!\")\n"
   ]
  },
  {
   "cell_type": "code",
   "execution_count": null,
   "metadata": {},
   "outputs": [],
   "source": [
    "# 데이터 불러와서 넣기\n",
    "phoenix_jar_path = '../notebook/jdbc/phoenix-client-embedded-hbase-2.5-5.1.3.jar'"
   ]
  },
  {
   "cell_type": "markdown",
   "metadata": {},
   "source": [
    "# 퀴리 실습"
   ]
  },
  {
   "cell_type": "code",
   "execution_count": 20,
   "metadata": {},
   "outputs": [
    {
     "name": "stdout",
     "output_type": "stream",
     "text": [
      "연결 완료\n",
      "쿼리실행\n",
      "결과\n",
      "('리서치센터장 전망 \"7월 코스피 2650~2900\" [마켓인사이트]',)\n",
      "('나노팀, 2차전지용 소화액 및 분사시스템 출시 [투자360]',)\n",
      "('아시아통화 약세 진정…환율, 1380원선 하회[외환마감]',)\n",
      "('[투자의 창]밸류업 위한 주주환원 수준은',)\n",
      "('삼정회계법인, 2023 사업연도 매출 소폭 성장…전년 比 1.4%↑',)\n",
      "(\"'부동산 PF연체율 17.57%'… 이복현, 증권사 CEO들 만나 무슨말?\",)\n",
      "('7월 금리인하 선그은 ECB 라가르드 \"인플레 아직 불확실\"',)\n",
      "('하나증권 \"SOOP, 별풍선 역대 최대 매출…목표가↑\"',)\n",
      "('뉴욕증시, 국채금리 급등에도 동반 상승···테슬라 6.05%↑',)\n",
      "('딥노이드 \"AI기반 갑상선 세침흡인 세포검사 정확도, 현재까지 연구중 가장 높아\"',)\n"
     ]
    }
   ],
   "source": [
    "import jaydebeapi\n",
    "import os\n",
    "\n",
    "# 각 JAR 파일의 경로 설정\n",
    "phoenix_jar_path = '../notebook/jdbc/phoenix-client-embedded-hbase-2.5-5.1.3.jar'\n",
    "reload4j_jar_path = '../notebook/jdbc/reload4j-1.2.24.jar'\n",
    "slf4j_reload4j_jar_path = '../notebook/jdbc/slf4j-reload4j-1.7.36.jar'\n",
    "sqlline_jar_path = '../notebook/jdbc/sqlline-1.9.0-jar-with-dependencies.jar'\n",
    "\n",
    "# 클래스패스에 모든 JAR 파일을 추가\n",
    "classpath = f\"{phoenix_jar_path};{reload4j_jar_path};{slf4j_reload4j_jar_path};{sqlline_jar_path}\"\n",
    "\n",
    "# JDBC URL 및 환경 변수 설정\n",
    "jdbc_url = \"jdbc:phoenix:34.64.230.82,34.22.71.84,34.64.42.191:2181:/hbase\"\n",
    "os.environ['JAVA_HOME'] = 'C:/Program Files/Java/jre/bin/server'  # JDK 설치 경로\n",
    "\n",
    "# JayDeBeAPI를 사용하여 Phoenix에 연결\n",
    "conn = jaydebeapi.connect(\n",
    "    \"org.apache.phoenix.jdbc.PhoenixDriver\",  # 드라이버 클래스 이름\n",
    "    jdbc_url,  # JDBC URL\n",
    "    [\"\", \"\"],  # 사용자명 및 비밀번호, 비워도 됨\n",
    "    classpath  # 클래스패스에 추가된 JAR 파일들\n",
    ")\n",
    "\n",
    "print(\"연결 완료\")\n",
    "# 커서 생성\n",
    "cursor = conn.cursor()\n",
    "\n",
    "# 업로드 날짜 조건에 맞는 기사 조회 쿼리\n",
    "select_query = \"\"\"\n",
    "SELECT title\n",
    "FROM ph_industry_news \n",
    "WHERE uploadDatetime BETWEEN TIMESTAMP '2024-07-01 00:00:00' AND TIMESTAMP '2024-08-01 23:59:59' \n",
    "AND industry = 'stock' \n",
    "LIMIT 10 OFFSET 6\n",
    "\"\"\"\n",
    "\n",
    "# 쿼리 실행\n",
    "cursor.execute(select_query)\n",
    "print(\"쿼리실행\")\n",
    "# 결과 가져오기\n",
    "results = cursor.fetchall()\n",
    "\n",
    "print(\"결과\")\n",
    "# 결과 출력\n",
    "for row in results:\n",
    "    print(row)\n",
    "\n",
    "# 연결 종료\n",
    "cursor.close()\n",
    "conn.close()\n"
   ]
  },
  {
   "cell_type": "code",
   "execution_count": null,
   "metadata": {},
   "outputs": [],
   "source": []
  },
  {
   "cell_type": "code",
   "execution_count": null,
   "metadata": {},
   "outputs": [],
   "source": []
  },
  {
   "cell_type": "code",
   "execution_count": null,
   "metadata": {},
   "outputs": [],
   "source": []
  },
  {
   "cell_type": "markdown",
   "metadata": {},
   "source": [
    "# 주식 데이터"
   ]
  },
  {
   "cell_type": "markdown",
   "metadata": {},
   "source": []
  },
  {
   "cell_type": "code",
   "execution_count": 105,
   "metadata": {},
   "outputs": [
    {
     "name": "stdout",
     "output_type": "stream",
     "text": [
      "Connection successful\n",
      "Tables created successfully!\n",
      "Tables created successfully!\n"
     ]
    },
    {
     "ename": "DatabaseError",
     "evalue": "org.apache.phoenix.schema.TableAlreadyExistsException: ERROR 1013 (42M04): Table already exists. tableName=STOCK_IDX_UPLOAD_DATETIME",
     "output_type": "error",
     "traceback": [
      "\u001b[1;31m---------------------------------------------------------------------------\u001b[0m",
      "\u001b[1;31mException\u001b[0m                                 Traceback (most recent call last)",
      "File \u001b[1;32mPhoenixPreparedStatement.java:178\u001b[0m, in \u001b[0;36morg.apache.phoenix.jdbc.PhoenixPreparedStatement.execute\u001b[1;34m()\u001b[0m\n",
      "\u001b[1;31mException\u001b[0m: Java Exception",
      "\nThe above exception was the direct cause of the following exception:\n",
      "\u001b[1;31morg.apache.phoenix.schema.TableAlreadyExistsException\u001b[0mTraceback (most recent call last)",
      "File \u001b[1;32mC:\\SSAFY\\S11P21C207\\data\\preprocess_server\\preprocess_venv\\Lib\\site-packages\\jaydebeapi\\__init__.py:534\u001b[0m, in \u001b[0;36mCursor.execute\u001b[1;34m(self, operation, parameters)\u001b[0m\n\u001b[0;32m    533\u001b[0m \u001b[38;5;28;01mtry\u001b[39;00m:\n\u001b[1;32m--> 534\u001b[0m     is_rs \u001b[38;5;241m=\u001b[39m \u001b[38;5;28;43mself\u001b[39;49m\u001b[38;5;241;43m.\u001b[39;49m\u001b[43m_prep\u001b[49m\u001b[38;5;241;43m.\u001b[39;49m\u001b[43mexecute\u001b[49m\u001b[43m(\u001b[49m\u001b[43m)\u001b[49m\n\u001b[0;32m    535\u001b[0m \u001b[38;5;28;01mexcept\u001b[39;00m:\n",
      "\u001b[1;31morg.apache.phoenix.schema.TableAlreadyExistsException\u001b[0m: org.apache.phoenix.schema.TableAlreadyExistsException: ERROR 1013 (42M04): Table already exists. tableName=STOCK_IDX_UPLOAD_DATETIME",
      "\nDuring handling of the above exception, another exception occurred:\n",
      "\u001b[1;31mDatabaseError\u001b[0m                             Traceback (most recent call last)",
      "Cell \u001b[1;32mIn[105], line 68\u001b[0m\n\u001b[0;32m     66\u001b[0m \u001b[38;5;66;03m# 인덱스 쿼리\u001b[39;00m\n\u001b[0;32m     67\u001b[0m create_index_datetime \u001b[38;5;241m=\u001b[39m \u001b[38;5;124m\"\u001b[39m\u001b[38;5;124mCREATE INDEX stock_idx_upload_datetime  ON ph_stock_news(upload_datetime)\u001b[39m\u001b[38;5;124m\"\u001b[39m\n\u001b[1;32m---> 68\u001b[0m \u001b[43mcursor\u001b[49m\u001b[38;5;241;43m.\u001b[39;49m\u001b[43mexecute\u001b[49m\u001b[43m(\u001b[49m\u001b[43mcreate_index_datetime\u001b[49m\u001b[43m)\u001b[49m\n\u001b[0;32m     69\u001b[0m create_index_news_id \u001b[38;5;241m=\u001b[39m \u001b[38;5;124m\"\u001b[39m\u001b[38;5;124mCREATE INDEX stock_idx_news_id  ON ph_stock_news_stock_code (stock_news_id)\u001b[39m\u001b[38;5;124m\"\u001b[39m\n\u001b[0;32m     70\u001b[0m cursor\u001b[38;5;241m.\u001b[39mexecute(create_index_news_id)\n",
      "File \u001b[1;32mC:\\SSAFY\\S11P21C207\\data\\preprocess_server\\preprocess_venv\\Lib\\site-packages\\jaydebeapi\\__init__.py:536\u001b[0m, in \u001b[0;36mCursor.execute\u001b[1;34m(self, operation, parameters)\u001b[0m\n\u001b[0;32m    534\u001b[0m     is_rs \u001b[38;5;241m=\u001b[39m \u001b[38;5;28mself\u001b[39m\u001b[38;5;241m.\u001b[39m_prep\u001b[38;5;241m.\u001b[39mexecute()\n\u001b[0;32m    535\u001b[0m \u001b[38;5;28;01mexcept\u001b[39;00m:\n\u001b[1;32m--> 536\u001b[0m     \u001b[43m_handle_sql_exception\u001b[49m\u001b[43m(\u001b[49m\u001b[43m)\u001b[49m\n\u001b[0;32m    537\u001b[0m \u001b[38;5;28;01mif\u001b[39;00m is_rs:\n\u001b[0;32m    538\u001b[0m     \u001b[38;5;28mself\u001b[39m\u001b[38;5;241m.\u001b[39m_rs \u001b[38;5;241m=\u001b[39m \u001b[38;5;28mself\u001b[39m\u001b[38;5;241m.\u001b[39m_prep\u001b[38;5;241m.\u001b[39mgetResultSet()\n",
      "File \u001b[1;32mC:\\SSAFY\\S11P21C207\\data\\preprocess_server\\preprocess_venv\\Lib\\site-packages\\jaydebeapi\\__init__.py:165\u001b[0m, in \u001b[0;36m_handle_sql_exception_jpype\u001b[1;34m()\u001b[0m\n\u001b[0;32m    162\u001b[0m \u001b[38;5;28;01melse\u001b[39;00m:\n\u001b[0;32m    163\u001b[0m     exc_type \u001b[38;5;241m=\u001b[39m InterfaceError\n\u001b[1;32m--> 165\u001b[0m \u001b[43mreraise\u001b[49m\u001b[43m(\u001b[49m\u001b[43mexc_type\u001b[49m\u001b[43m,\u001b[49m\u001b[43m \u001b[49m\u001b[43mexc_info\u001b[49m\u001b[43m[\u001b[49m\u001b[38;5;241;43m1\u001b[39;49m\u001b[43m]\u001b[49m\u001b[43m,\u001b[49m\u001b[43m \u001b[49m\u001b[43mexc_info\u001b[49m\u001b[43m[\u001b[49m\u001b[38;5;241;43m2\u001b[39;49m\u001b[43m]\u001b[49m\u001b[43m)\u001b[49m\n",
      "File \u001b[1;32mC:\\SSAFY\\S11P21C207\\data\\preprocess_server\\preprocess_venv\\Lib\\site-packages\\jaydebeapi\\__init__.py:57\u001b[0m, in \u001b[0;36mreraise\u001b[1;34m(tp, value, tb)\u001b[0m\n\u001b[0;32m     55\u001b[0m     value \u001b[38;5;241m=\u001b[39m tp(value)\n\u001b[0;32m     56\u001b[0m \u001b[38;5;28;01mif\u001b[39;00m tb:\n\u001b[1;32m---> 57\u001b[0m     \u001b[38;5;28;01mraise\u001b[39;00m value\u001b[38;5;241m.\u001b[39mwith_traceback(tb)\n\u001b[0;32m     58\u001b[0m \u001b[38;5;28;01mraise\u001b[39;00m value\n",
      "File \u001b[1;32mC:\\SSAFY\\S11P21C207\\data\\preprocess_server\\preprocess_venv\\Lib\\site-packages\\jaydebeapi\\__init__.py:534\u001b[0m, in \u001b[0;36mCursor.execute\u001b[1;34m(self, operation, parameters)\u001b[0m\n\u001b[0;32m    532\u001b[0m \u001b[38;5;28mself\u001b[39m\u001b[38;5;241m.\u001b[39m_set_stmt_parms(\u001b[38;5;28mself\u001b[39m\u001b[38;5;241m.\u001b[39m_prep, parameters)\n\u001b[0;32m    533\u001b[0m \u001b[38;5;28;01mtry\u001b[39;00m:\n\u001b[1;32m--> 534\u001b[0m     is_rs \u001b[38;5;241m=\u001b[39m \u001b[38;5;28;43mself\u001b[39;49m\u001b[38;5;241;43m.\u001b[39;49m\u001b[43m_prep\u001b[49m\u001b[38;5;241;43m.\u001b[39;49m\u001b[43mexecute\u001b[49m\u001b[43m(\u001b[49m\u001b[43m)\u001b[49m\n\u001b[0;32m    535\u001b[0m \u001b[38;5;28;01mexcept\u001b[39;00m:\n\u001b[0;32m    536\u001b[0m     _handle_sql_exception()\n",
      "\u001b[1;31mDatabaseError\u001b[0m: org.apache.phoenix.schema.TableAlreadyExistsException: ERROR 1013 (42M04): Table already exists. tableName=STOCK_IDX_UPLOAD_DATETIME"
     ]
    }
   ],
   "source": [
    "import jaydebeapi\n",
    "import os\n",
    "\n",
    "# 각 JAR 파일의 경로 설정\n",
    "phoenix_jar_path = '../notebook/jdbc/phoenix-client-embedded-hbase-2.5-5.1.3.jar'\n",
    "reload4j_jar_path = '../notebook/jdbc/reload4j-1.2.24.jar'\n",
    "slf4j_reload4j_jar_path = '../notebook/jdbc/slf4j-reload4j-1.7.36.jar'\n",
    "sqlline_jar_path = '../notebook/jdbc/sqlline-1.9.0-jar-with-dependencies.jar'\n",
    "\n",
    "# 클래스패스에 모든 JAR 파일을 추가\n",
    "classpath = f\"{phoenix_jar_path};{reload4j_jar_path};{slf4j_reload4j_jar_path};{sqlline_jar_path}\"\n",
    "\n",
    "# JDBC URL 및 환경 변수 설정\n",
    "jdbc_url = \"jdbc:phoenix:34.64.230.82,34.22.71.84,34.64.42.191:2181:/hbase\"\n",
    "os.environ['JAVA_HOME'] = 'C:/Program Files/Java/jre/bin/server'  # JDK 설치 경로\n",
    "\n",
    "# JayDeBeAPI를 사용하여 Phoenix에 연결\n",
    "conn = jaydebeapi.connect(\n",
    "    \"org.apache.phoenix.jdbc.PhoenixDriver\",  # 드라이버 클래스 이름\n",
    "    jdbc_url,  # JDBC URL\n",
    "    [\"\", \"\"],  # 사용자명 및 비밀번호, 비워도 됨\n",
    "    classpath  # 클래스패스에 추가된 JAR 파일들\n",
    ")\n",
    "\n",
    "# 커서 생성\n",
    "cursor = conn.cursor()\n",
    "print(\"Connection successful\")\n",
    "\n",
    "# 테이블 생성 쿼리 (ph_stock_news)\n",
    "create_ph_stock_news_table = \"\"\"\n",
    "CREATE TABLE ph_stock_news (\n",
    "    news_id BIGINT PRIMARY KEY,\n",
    "    article VARCHAR,\n",
    "    description VARCHAR,\n",
    "    media VARCHAR,\n",
    "    keywords VARCHAR,\n",
    "    sentiment INTEGER,\n",
    "    score INTEGER,\n",
    "    subtitle VARCHAR,\n",
    "    thumbnail VARCHAR,\n",
    "    title VARCHAR,\n",
    "    upload_datetime TIMESTAMP\n",
    ") SALT_BUCKETS = 15\n",
    "\"\"\"\n",
    "\n",
    "# 테이블 생성 쿼리 (stock_news_stock_code)\n",
    "create_stock_news_stock_code_table = \"\"\"\n",
    "CREATE TABLE ph_stock_news_stock_code (\n",
    "    stock_news_id_stock VARCHAR PRIMARY KEY,\n",
    "    stock_news_id BIGINT,\n",
    "    stock_code VARCHAR\n",
    ") SALT_BUCKETS = 15\n",
    "\"\"\"\n",
    "\n",
    "# 테이블 생성 및 인덱스 적용\n",
    "try:\n",
    "    pass\n",
    "    # cursor.execute(create_ph_stock_news_table)\n",
    "    print(\"Tables created successfully!\")\n",
    "    cursor.execute(create_stock_news_stock_code_table)\n",
    "    print(\"Tables created successfully!\")\n",
    "except Exception as e:\n",
    "    print(f\"Error creating tables: {e}\")\n",
    "\n",
    "\n",
    "# 인덱스 쿼리\n",
    "create_index_datetime = \"CREATE INDEX stock_idx_upload_datetime  ON ph_stock_news(upload_datetime)\"\n",
    "cursor.execute(create_index_datetime)\n",
    "create_index_news_id = \"CREATE INDEX stock_idx_news_id  ON ph_stock_news_stock_code (stock_news_id)\"\n",
    "cursor.execute(create_index_news_id)\n",
    "print(\"index made\")\n",
    "\n",
    "# 커밋 및 연결 종료\n",
    "conn.commit()\n",
    "cursor.close()\n",
    "conn.close()\n",
    "\n",
    "print(\"Connection closed successfully!\")\n"
   ]
  },
  {
   "cell_type": "code",
   "execution_count": 109,
   "metadata": {},
   "outputs": [],
   "source": [
    "import os\n",
    "import json\n",
    "\n",
    "# 현재 작업 디렉토리에서 'data/newstock-stock-news-final' 경로 설정\n",
    "stock_news_dir = os.path.join(os.getcwd(), 'data', 'newstock-stock-news-final')\n",
    "\n",
    "# 파일 목록 가져오기\n",
    "all_files = os.listdir(stock_news_dir)\n",
    "\n",
    "# 원하는 날짜 범위 설정\n",
    "start_date = '20190901'\n",
    "end_date = '20191031'\n",
    "\n",
    "# 범위에 해당하는 파일만 필터링\n",
    "filtered_files = [\n",
    "    filename for filename in all_files\n",
    "    if start_date <= filename[:8] <= end_date  # 파일 이름의 처음 8자리로 날짜 비교\n",
    "]\n",
    "\n",
    "# 필터링된 JSON 파일 읽기\n",
    "json_data_list = []\n",
    "\n",
    "for filename in filtered_files:\n",
    "    file_path = os.path.join(stock_news_dir, filename)\n",
    "    with open(file_path, 'r', encoding='utf-8') as file:  # 파일 열기\n",
    "        try:\n",
    "            data = json.load(file)  # JSON 파일 읽기\n",
    "            json_data_list.append(data)  # 리스트에 추가\n",
    "        except json.JSONDecodeError as e:\n",
    "            print(f\"Error decoding JSON from file {filename}: {e}\")\n",
    "\n",
    "# 이제 json_data_list에는 필터링된 JSON 파일의 내용이 저장되어 있습니다.\n",
    "\n",
    "# json_data_list[0]"
   ]
  },
  {
   "cell_type": "code",
   "execution_count": 69,
   "metadata": {},
   "outputs": [
    {
     "data": {
      "text/plain": [
       "'5g, 금융, 은행, 스마트, 결제'"
      ]
     },
     "execution_count": 69,
     "metadata": {},
     "output_type": "execute_result"
    }
   ],
   "source": [
    "\", \".join(json_data_list[0]['data'][0]['keywords'])"
   ]
  },
  {
   "cell_type": "code",
   "execution_count": 70,
   "metadata": {},
   "outputs": [
    {
     "data": {
      "text/plain": [
       "''"
      ]
     },
     "execution_count": 70,
     "metadata": {},
     "output_type": "execute_result"
    }
   ],
   "source": [
    "\", \".join([])"
   ]
  },
  {
   "cell_type": "code",
   "execution_count": 110,
   "metadata": {},
   "outputs": [
    {
     "name": "stdout",
     "output_type": "stream",
     "text": [
      "Connection successful\n"
     ]
    },
    {
     "name": "stderr",
     "output_type": "stream",
     "text": [
      "  0%|                                                                                                                                                                                                                                                         | 0/178 [00:00<?, ?it/s]"
     ]
    },
    {
     "name": "stderr",
     "output_type": "stream",
     "text": [
      "100%|██████████████████████████████████████████████████████████████████████████████████████████████████████████████████████████████████████████████████████████████████████████████████████████████████████████████████████████████████████████████| 178/178 [00:00<00:00, 977.99it/s]\n"
     ]
    },
    {
     "name": "stdout",
     "output_type": "stream",
     "text": [
      "Inserted 178 news articles and related data successfully.\n"
     ]
    },
    {
     "name": "stderr",
     "output_type": "stream",
     "text": [
      "100%|█████████████████████████████████████████████████████████████████████████████████████████████████████████████████████████████████████████████████████████████████████████████████████████████████████████████████████████████████████████████| 587/587 [00:00<00:00, 1091.87it/s]\n"
     ]
    },
    {
     "name": "stdout",
     "output_type": "stream",
     "text": [
      "Inserted 587 news articles and related data successfully.\n"
     ]
    },
    {
     "name": "stderr",
     "output_type": "stream",
     "text": [
      "100%|██████████████████████████████████████████████████████████████████████████████████████████████████████████████████████████████████████████████████████████████████████████████████████████████████████████████████████████████████████████████| 558/558 [00:00<00:00, 660.94it/s]\n"
     ]
    },
    {
     "name": "stdout",
     "output_type": "stream",
     "text": [
      "Inserted 558 news articles and related data successfully.\n"
     ]
    },
    {
     "name": "stderr",
     "output_type": "stream",
     "text": [
      "100%|█████████████████████████████████████████████████████████████████████████████████████████████████████████████████████████████████████████████████████████████████████████████████████████████████████████████████████████████████████████████| 530/530 [00:00<00:00, 1226.86it/s]\n"
     ]
    },
    {
     "name": "stdout",
     "output_type": "stream",
     "text": [
      "Inserted 530 news articles and related data successfully.\n"
     ]
    },
    {
     "name": "stderr",
     "output_type": "stream",
     "text": [
      "100%|█████████████████████████████████████████████████████████████████████████████████████████████████████████████████████████████████████████████████████████████████████████████████████████████████████████████████████████████████████████████| 527/527 [00:00<00:00, 1194.62it/s]\n"
     ]
    },
    {
     "name": "stdout",
     "output_type": "stream",
     "text": [
      "Inserted 527 news articles and related data successfully.\n"
     ]
    },
    {
     "name": "stderr",
     "output_type": "stream",
     "text": [
      "100%|█████████████████████████████████████████████████████████████████████████████████████████████████████████████████████████████████████████████████████████████████████████████████████████████████████████████████████████████████████████████| 372/372 [00:00<00:00, 2354.46it/s]\n"
     ]
    },
    {
     "name": "stdout",
     "output_type": "stream",
     "text": [
      "Inserted 372 news articles and related data successfully.\n"
     ]
    },
    {
     "name": "stderr",
     "output_type": "stream",
     "text": [
      "100%|███████████████████████████████████████████████████████████████████████████████████████████████████████████████████████████████████████████████████████████████████████████████████████████████████████████████████████████████████████████████| 70/70 [00:00<00:00, 1458.47it/s]\n"
     ]
    },
    {
     "name": "stdout",
     "output_type": "stream",
     "text": [
      "Inserted 70 news articles and related data successfully.\n"
     ]
    },
    {
     "name": "stderr",
     "output_type": "stream",
     "text": [
      "100%|█████████████████████████████████████████████████████████████████████████████████████████████████████████████████████████████████████████████████████████████████████████████████████████████████████████████████████████████████████████████| 192/192 [00:00<00:00, 1315.00it/s]\n"
     ]
    },
    {
     "name": "stdout",
     "output_type": "stream",
     "text": [
      "Inserted 192 news articles and related data successfully.\n"
     ]
    },
    {
     "name": "stderr",
     "output_type": "stream",
     "text": [
      "100%|█████████████████████████████████████████████████████████████████████████████████████████████████████████████████████████████████████████████████████████████████████████████████████████████████████████████████████████████████████████████| 520/520 [00:00<00:00, 1666.65it/s]\n"
     ]
    },
    {
     "name": "stdout",
     "output_type": "stream",
     "text": [
      "Inserted 520 news articles and related data successfully.\n"
     ]
    },
    {
     "name": "stderr",
     "output_type": "stream",
     "text": [
      "100%|█████████████████████████████████████████████████████████████████████████████████████████████████████████████████████████████████████████████████████████████████████████████████████████████████████████████████████████████████████████████| 536/536 [00:00<00:00, 1310.52it/s]\n"
     ]
    },
    {
     "name": "stdout",
     "output_type": "stream",
     "text": [
      "Inserted 536 news articles and related data successfully.\n"
     ]
    },
    {
     "name": "stderr",
     "output_type": "stream",
     "text": [
      "100%|█████████████████████████████████████████████████████████████████████████████████████████████████████████████████████████████████████████████████████████████████████████████████████████████████████████████████████████████████████████████| 414/414 [00:00<00:00, 1290.18it/s]\n"
     ]
    },
    {
     "name": "stdout",
     "output_type": "stream",
     "text": [
      "Inserted 414 news articles and related data successfully.\n"
     ]
    },
    {
     "name": "stderr",
     "output_type": "stream",
     "text": [
      "100%|███████████████████████████████████████████████████████████████████████████████████████████████████████████████████████████████████████████████████████████████████████████████████████████████████████████████████████████████████████████████| 95/95 [00:00<00:00, 1168.46it/s]\n"
     ]
    },
    {
     "name": "stdout",
     "output_type": "stream",
     "text": [
      "Inserted 95 news articles and related data successfully.\n"
     ]
    },
    {
     "name": "stderr",
     "output_type": "stream",
     "text": [
      "100%|███████████████████████████████████████████████████████████████████████████████████████████████████████████████████████████████████████████████████████████████████████████████████████████████████████████████████████████████████████████████| 57/57 [00:00<00:00, 1676.39it/s]\n"
     ]
    },
    {
     "name": "stdout",
     "output_type": "stream",
     "text": [
      "Inserted 57 news articles and related data successfully.\n"
     ]
    },
    {
     "name": "stderr",
     "output_type": "stream",
     "text": [
      "100%|███████████████████████████████████████████████████████████████████████████████████████████████████████████████████████████████████████████████████████████████████████████████████████████████████████████████████████████████████████████████| 91/91 [00:00<00:00, 1246.62it/s]\n"
     ]
    },
    {
     "name": "stdout",
     "output_type": "stream",
     "text": [
      "Inserted 91 news articles and related data successfully.\n"
     ]
    },
    {
     "name": "stderr",
     "output_type": "stream",
     "text": [
      "100%|█████████████████████████████████████████████████████████████████████████████████████████████████████████████████████████████████████████████████████████████████████████████████████████████████████████████████████████████████████████████| 176/176 [00:00<00:00, 1407.99it/s]\n"
     ]
    },
    {
     "name": "stdout",
     "output_type": "stream",
     "text": [
      "Inserted 176 news articles and related data successfully.\n"
     ]
    },
    {
     "name": "stderr",
     "output_type": "stream",
     "text": [
      "100%|█████████████████████████████████████████████████████████████████████████████████████████████████████████████████████████████████████████████████████████████████████████████████████████████████████████████████████████████████████████████| 567/567 [00:00<00:00, 1306.45it/s]\n"
     ]
    },
    {
     "name": "stdout",
     "output_type": "stream",
     "text": [
      "Inserted 567 news articles and related data successfully.\n"
     ]
    },
    {
     "name": "stderr",
     "output_type": "stream",
     "text": [
      "100%|██████████████████████████████████████████████████████████████████████████████████████████████████████████████████████████████████████████████████████████████████████████████████████████████████████████████████████████████████████████████| 634/634 [00:01<00:00, 588.94it/s]\n"
     ]
    },
    {
     "name": "stdout",
     "output_type": "stream",
     "text": [
      "Inserted 634 news articles and related data successfully.\n"
     ]
    },
    {
     "name": "stderr",
     "output_type": "stream",
     "text": [
      "100%|█████████████████████████████████████████████████████████████████████████████████████████████████████████████████████████████████████████████████████████████████████████████████████████████████████████████████████████████████████████████| 600/600 [00:00<00:00, 1551.37it/s]\n"
     ]
    },
    {
     "name": "stdout",
     "output_type": "stream",
     "text": [
      "Inserted 600 news articles and related data successfully.\n"
     ]
    },
    {
     "name": "stderr",
     "output_type": "stream",
     "text": [
      "100%|█████████████████████████████████████████████████████████████████████████████████████████████████████████████████████████████████████████████████████████████████████████████████████████████████████████████████████████████████████████████| 569/569 [00:00<00:00, 1552.69it/s]\n"
     ]
    },
    {
     "name": "stdout",
     "output_type": "stream",
     "text": [
      "Inserted 569 news articles and related data successfully.\n"
     ]
    },
    {
     "name": "stderr",
     "output_type": "stream",
     "text": [
      "100%|██████████████████████████████████████████████████████████████████████████████████████████████████████████████████████████████████████████████████████████████████████████████████████████████████████████████████████████████████████████████| 426/426 [00:00<00:00, 654.05it/s]\n"
     ]
    },
    {
     "name": "stdout",
     "output_type": "stream",
     "text": [
      "Inserted 426 news articles and related data successfully.\n"
     ]
    },
    {
     "name": "stderr",
     "output_type": "stream",
     "text": [
      "100%|███████████████████████████████████████████████████████████████████████████████████████████████████████████████████████████████████████████████████████████████████████████████████████████████████████████████████████████████████████████████| 77/77 [00:00<00:00, 1571.27it/s]\n"
     ]
    },
    {
     "name": "stdout",
     "output_type": "stream",
     "text": [
      "Inserted 77 news articles and related data successfully.\n"
     ]
    },
    {
     "name": "stderr",
     "output_type": "stream",
     "text": [
      "100%|█████████████████████████████████████████████████████████████████████████████████████████████████████████████████████████████████████████████████████████████████████████████████████████████████████████████████████████████████████████████| 175/175 [00:00<00:00, 1110.31it/s]\n"
     ]
    },
    {
     "name": "stdout",
     "output_type": "stream",
     "text": [
      "Inserted 175 news articles and related data successfully.\n"
     ]
    },
    {
     "name": "stderr",
     "output_type": "stream",
     "text": [
      "100%|█████████████████████████████████████████████████████████████████████████████████████████████████████████████████████████████████████████████████████████████████████████████████████████████████████████████████████████████████████████████| 566/566 [00:00<00:00, 1377.13it/s]\n"
     ]
    },
    {
     "name": "stdout",
     "output_type": "stream",
     "text": [
      "Inserted 566 news articles and related data successfully.\n"
     ]
    },
    {
     "name": "stderr",
     "output_type": "stream",
     "text": [
      "100%|█████████████████████████████████████████████████████████████████████████████████████████████████████████████████████████████████████████████████████████████████████████████████████████████████████████████████████████████████████████████| 614/614 [00:00<00:00, 1490.29it/s]\n"
     ]
    },
    {
     "name": "stdout",
     "output_type": "stream",
     "text": [
      "Inserted 614 news articles and related data successfully.\n"
     ]
    },
    {
     "name": "stderr",
     "output_type": "stream",
     "text": [
      "100%|█████████████████████████████████████████████████████████████████████████████████████████████████████████████████████████████████████████████████████████████████████████████████████████████████████████████████████████████████████████████| 633/633 [00:00<00:00, 1172.22it/s]\n"
     ]
    },
    {
     "name": "stdout",
     "output_type": "stream",
     "text": [
      "Inserted 633 news articles and related data successfully.\n"
     ]
    },
    {
     "name": "stderr",
     "output_type": "stream",
     "text": [
      "100%|█████████████████████████████████████████████████████████████████████████████████████████████████████████████████████████████████████████████████████████████████████████████████████████████████████████████████████████████████████████████| 591/591 [00:00<00:00, 2685.54it/s]\n"
     ]
    },
    {
     "name": "stdout",
     "output_type": "stream",
     "text": [
      "Inserted 591 news articles and related data successfully.\n"
     ]
    },
    {
     "name": "stderr",
     "output_type": "stream",
     "text": [
      "100%|█████████████████████████████████████████████████████████████████████████████████████████████████████████████████████████████████████████████████████████████████████████████████████████████████████████████████████████████████████████████| 539/539 [00:00<00:00, 1441.18it/s]\n"
     ]
    },
    {
     "name": "stdout",
     "output_type": "stream",
     "text": [
      "Inserted 539 news articles and related data successfully.\n"
     ]
    },
    {
     "name": "stderr",
     "output_type": "stream",
     "text": [
      "100%|███████████████████████████████████████████████████████████████████████████████████████████████████████████████████████████████████████████████████████████████████████████████████████████████████████████████████████████████████████████████| 69/69 [00:00<00:00, 1916.73it/s]\n"
     ]
    },
    {
     "name": "stdout",
     "output_type": "stream",
     "text": [
      "Inserted 69 news articles and related data successfully.\n"
     ]
    },
    {
     "name": "stderr",
     "output_type": "stream",
     "text": [
      "100%|█████████████████████████████████████████████████████████████████████████████████████████████████████████████████████████████████████████████████████████████████████████████████████████████████████████████████████████████████████████████| 212/212 [00:00<00:00, 1209.39it/s]\n"
     ]
    },
    {
     "name": "stdout",
     "output_type": "stream",
     "text": [
      "Inserted 212 news articles and related data successfully.\n"
     ]
    },
    {
     "name": "stderr",
     "output_type": "stream",
     "text": [
      "100%|██████████████████████████████████████████████████████████████████████████████████████████████████████████████████████████████████████████████████████████████████████████████████████████████████████████████████████████████████████████████| 591/591 [00:00<00:00, 740.55it/s]\n"
     ]
    },
    {
     "name": "stdout",
     "output_type": "stream",
     "text": [
      "Inserted 591 news articles and related data successfully.\n"
     ]
    },
    {
     "name": "stderr",
     "output_type": "stream",
     "text": [
      "100%|█████████████████████████████████████████████████████████████████████████████████████████████████████████████████████████████████████████████████████████████████████████████████████████████████████████████████████████████████████████████| 638/638 [00:00<00:00, 1495.81it/s]\n"
     ]
    },
    {
     "name": "stdout",
     "output_type": "stream",
     "text": [
      "Inserted 638 news articles and related data successfully.\n"
     ]
    },
    {
     "name": "stderr",
     "output_type": "stream",
     "text": [
      "100%|█████████████████████████████████████████████████████████████████████████████████████████████████████████████████████████████████████████████████████████████████████████████████████████████████████████████████████████████████████████████| 522/522 [00:00<00:00, 1399.76it/s]\n"
     ]
    },
    {
     "name": "stdout",
     "output_type": "stream",
     "text": [
      "Inserted 522 news articles and related data successfully.\n"
     ]
    },
    {
     "name": "stderr",
     "output_type": "stream",
     "text": [
      "100%|█████████████████████████████████████████████████████████████████████████████████████████████████████████████████████████████████████████████████████████████████████████████████████████████████████████████████████████████████████████████| 181/181 [00:00<00:00, 1252.43it/s]\n"
     ]
    },
    {
     "name": "stdout",
     "output_type": "stream",
     "text": [
      "Inserted 181 news articles and related data successfully.\n"
     ]
    },
    {
     "name": "stderr",
     "output_type": "stream",
     "text": [
      "100%|█████████████████████████████████████████████████████████████████████████████████████████████████████████████████████████████████████████████████████████████████████████████████████████████████████████████████████████████████████████████| 431/431 [00:00<00:00, 1632.32it/s]\n"
     ]
    },
    {
     "name": "stdout",
     "output_type": "stream",
     "text": [
      "Inserted 431 news articles and related data successfully.\n"
     ]
    },
    {
     "name": "stderr",
     "output_type": "stream",
     "text": [
      "100%|███████████████████████████████████████████████████████████████████████████████████████████████████████████████████████████████████████████████████████████████████████████████████████████████████████████████████████████████████████████████| 57/57 [00:00<00:00, 1119.79it/s]\n"
     ]
    },
    {
     "name": "stdout",
     "output_type": "stream",
     "text": [
      "Inserted 57 news articles and related data successfully.\n"
     ]
    },
    {
     "name": "stderr",
     "output_type": "stream",
     "text": [
      "100%|█████████████████████████████████████████████████████████████████████████████████████████████████████████████████████████████████████████████████████████████████████████████████████████████████████████████████████████████████████████████| 157/157 [00:00<00:00, 1341.88it/s]\n"
     ]
    },
    {
     "name": "stdout",
     "output_type": "stream",
     "text": [
      "Inserted 157 news articles and related data successfully.\n"
     ]
    },
    {
     "name": "stderr",
     "output_type": "stream",
     "text": [
      "100%|█████████████████████████████████████████████████████████████████████████████████████████████████████████████████████████████████████████████████████████████████████████████████████████████████████████████████████████████████████████████| 640/640 [00:00<00:00, 1460.77it/s]\n"
     ]
    },
    {
     "name": "stdout",
     "output_type": "stream",
     "text": [
      "Inserted 640 news articles and related data successfully.\n"
     ]
    },
    {
     "name": "stderr",
     "output_type": "stream",
     "text": [
      "100%|█████████████████████████████████████████████████████████████████████████████████████████████████████████████████████████████████████████████████████████████████████████████████████████████████████████████████████████████████████████████| 552/552 [00:00<00:00, 1403.39it/s]\n"
     ]
    },
    {
     "name": "stdout",
     "output_type": "stream",
     "text": [
      "Inserted 552 news articles and related data successfully.\n"
     ]
    },
    {
     "name": "stderr",
     "output_type": "stream",
     "text": [
      "100%|█████████████████████████████████████████████████████████████████████████████████████████████████████████████████████████████████████████████████████████████████████████████████████████████████████████████████████████████████████████████| 195/195 [00:00<00:00, 1266.23it/s]\n"
     ]
    },
    {
     "name": "stdout",
     "output_type": "stream",
     "text": [
      "Inserted 195 news articles and related data successfully.\n"
     ]
    },
    {
     "name": "stderr",
     "output_type": "stream",
     "text": [
      "100%|█████████████████████████████████████████████████████████████████████████████████████████████████████████████████████████████████████████████████████████████████████████████████████████████████████████████████████████████████████████████| 612/612 [00:00<00:00, 1536.49it/s]\n"
     ]
    },
    {
     "name": "stdout",
     "output_type": "stream",
     "text": [
      "Inserted 612 news articles and related data successfully.\n"
     ]
    },
    {
     "name": "stderr",
     "output_type": "stream",
     "text": [
      "100%|█████████████████████████████████████████████████████████████████████████████████████████████████████████████████████████████████████████████████████████████████████████████████████████████████████████████████████████████████████████████| 505/505 [00:00<00:00, 1034.85it/s]\n"
     ]
    },
    {
     "name": "stdout",
     "output_type": "stream",
     "text": [
      "Inserted 505 news articles and related data successfully.\n"
     ]
    },
    {
     "name": "stderr",
     "output_type": "stream",
     "text": [
      "100%|███████████████████████████████████████████████████████████████████████████████████████████████████████████████████████████████████████████████████████████████████████████████████████████████████████████████████████████████████████████████| 63/63 [00:00<00:00, 2333.36it/s]\n"
     ]
    },
    {
     "name": "stdout",
     "output_type": "stream",
     "text": [
      "Inserted 63 news articles and related data successfully.\n"
     ]
    },
    {
     "name": "stderr",
     "output_type": "stream",
     "text": [
      "100%|█████████████████████████████████████████████████████████████████████████████████████████████████████████████████████████████████████████████████████████████████████████████████████████████████████████████████████████████████████████████| 199/199 [00:00<00:00, 1792.74it/s]\n"
     ]
    },
    {
     "name": "stdout",
     "output_type": "stream",
     "text": [
      "Inserted 199 news articles and related data successfully.\n"
     ]
    },
    {
     "name": "stderr",
     "output_type": "stream",
     "text": [
      "100%|█████████████████████████████████████████████████████████████████████████████████████████████████████████████████████████████████████████████████████████████████████████████████████████████████████████████████████████████████████████████| 679/679 [00:00<00:00, 1529.86it/s]\n"
     ]
    },
    {
     "name": "stdout",
     "output_type": "stream",
     "text": [
      "Inserted 679 news articles and related data successfully.\n"
     ]
    },
    {
     "name": "stderr",
     "output_type": "stream",
     "text": [
      "100%|█████████████████████████████████████████████████████████████████████████████████████████████████████████████████████████████████████████████████████████████████████████████████████████████████████████████████████████████████████████████| 607/607 [00:00<00:00, 1530.91it/s]\n"
     ]
    },
    {
     "name": "stdout",
     "output_type": "stream",
     "text": [
      "Inserted 607 news articles and related data successfully.\n"
     ]
    },
    {
     "name": "stderr",
     "output_type": "stream",
     "text": [
      "100%|█████████████████████████████████████████████████████████████████████████████████████████████████████████████████████████████████████████████████████████████████████████████████████████████████████████████████████████████████████████████| 587/587 [00:00<00:00, 1784.21it/s]\n"
     ]
    },
    {
     "name": "stdout",
     "output_type": "stream",
     "text": [
      "Inserted 587 news articles and related data successfully.\n"
     ]
    },
    {
     "name": "stderr",
     "output_type": "stream",
     "text": [
      "100%|█████████████████████████████████████████████████████████████████████████████████████████████████████████████████████████████████████████████████████████████████████████████████████████████████████████████████████████████████████████████| 567/567 [00:00<00:00, 1343.61it/s]\n"
     ]
    },
    {
     "name": "stdout",
     "output_type": "stream",
     "text": [
      "Inserted 567 news articles and related data successfully.\n"
     ]
    },
    {
     "name": "stderr",
     "output_type": "stream",
     "text": [
      "100%|█████████████████████████████████████████████████████████████████████████████████████████████████████████████████████████████████████████████████████████████████████████████████████████████████████████████████████████████████████████████| 464/464 [00:00<00:00, 1812.51it/s]\n"
     ]
    },
    {
     "name": "stdout",
     "output_type": "stream",
     "text": [
      "Inserted 464 news articles and related data successfully.\n"
     ]
    },
    {
     "name": "stderr",
     "output_type": "stream",
     "text": [
      "100%|███████████████████████████████████████████████████████████████████████████████████████████████████████████████████████████████████████████████████████████████████████████████████████████████████████████████████████████████████████████████| 57/57 [00:00<00:00, 1163.33it/s]\n"
     ]
    },
    {
     "name": "stdout",
     "output_type": "stream",
     "text": [
      "Inserted 57 news articles and related data successfully.\n"
     ]
    },
    {
     "name": "stderr",
     "output_type": "stream",
     "text": [
      "100%|█████████████████████████████████████████████████████████████████████████████████████████████████████████████████████████████████████████████████████████████████████████████████████████████████████████████████████████████████████████████| 197/197 [00:00<00:00, 1779.58it/s]\n"
     ]
    },
    {
     "name": "stdout",
     "output_type": "stream",
     "text": [
      "Inserted 197 news articles and related data successfully.\n"
     ]
    },
    {
     "name": "stderr",
     "output_type": "stream",
     "text": [
      "100%|█████████████████████████████████████████████████████████████████████████████████████████████████████████████████████████████████████████████████████████████████████████████████████████████████████████████████████████████████████████████| 616/616 [00:00<00:00, 1290.94it/s]\n"
     ]
    },
    {
     "name": "stdout",
     "output_type": "stream",
     "text": [
      "Inserted 616 news articles and related data successfully.\n"
     ]
    },
    {
     "name": "stderr",
     "output_type": "stream",
     "text": [
      "100%|█████████████████████████████████████████████████████████████████████████████████████████████████████████████████████████████████████████████████████████████████████████████████████████████████████████████████████████████████████████████| 568/568 [00:00<00:00, 1615.92it/s]\n"
     ]
    },
    {
     "name": "stdout",
     "output_type": "stream",
     "text": [
      "Inserted 568 news articles and related data successfully.\n"
     ]
    },
    {
     "name": "stderr",
     "output_type": "stream",
     "text": [
      "100%|█████████████████████████████████████████████████████████████████████████████████████████████████████████████████████████████████████████████████████████████████████████████████████████████████████████████████████████████████████████████| 557/557 [00:00<00:00, 1315.21it/s]\n"
     ]
    },
    {
     "name": "stdout",
     "output_type": "stream",
     "text": [
      "Inserted 557 news articles and related data successfully.\n"
     ]
    },
    {
     "name": "stderr",
     "output_type": "stream",
     "text": [
      "100%|█████████████████████████████████████████████████████████████████████████████████████████████████████████████████████████████████████████████████████████████████████████████████████████████████████████████████████████████████████████████| 674/674 [00:00<00:00, 1458.87it/s]\n"
     ]
    },
    {
     "name": "stdout",
     "output_type": "stream",
     "text": [
      "Inserted 674 news articles and related data successfully.\n"
     ]
    },
    {
     "name": "stderr",
     "output_type": "stream",
     "text": [
      "100%|██████████████████████████████████████████████████████████████████████████████████████████████████████████████████████████████████████████████████████████████████████████████████████████████████████████████████████████████████████████████| 492/492 [00:00<00:00, 924.81it/s]\n"
     ]
    },
    {
     "name": "stdout",
     "output_type": "stream",
     "text": [
      "Inserted 492 news articles and related data successfully.\n"
     ]
    },
    {
     "name": "stderr",
     "output_type": "stream",
     "text": [
      "100%|███████████████████████████████████████████████████████████████████████████████████████████████████████████████████████████████████████████████████████████████████████████████████████████████████████████████████████████████████████████████| 72/72 [00:00<00:00, 1333.28it/s]\n"
     ]
    },
    {
     "name": "stdout",
     "output_type": "stream",
     "text": [
      "Inserted 72 news articles and related data successfully.\n"
     ]
    },
    {
     "name": "stderr",
     "output_type": "stream",
     "text": [
      "100%|█████████████████████████████████████████████████████████████████████████████████████████████████████████████████████████████████████████████████████████████████████████████████████████████████████████████████████████████████████████████| 194/194 [00:00<00:00, 1284.76it/s]\n"
     ]
    },
    {
     "name": "stdout",
     "output_type": "stream",
     "text": [
      "Inserted 194 news articles and related data successfully.\n"
     ]
    },
    {
     "name": "stderr",
     "output_type": "stream",
     "text": [
      "100%|█████████████████████████████████████████████████████████████████████████████████████████████████████████████████████████████████████████████████████████████████████████████████████████████████████████████████████████████████████████████| 659/659 [00:00<00:00, 2544.42it/s]\n"
     ]
    },
    {
     "name": "stdout",
     "output_type": "stream",
     "text": [
      "Inserted 659 news articles and related data successfully.\n"
     ]
    },
    {
     "name": "stderr",
     "output_type": "stream",
     "text": [
      "100%|█████████████████████████████████████████████████████████████████████████████████████████████████████████████████████████████████████████████████████████████████████████████████████████████████████████████████████████████████████████████| 633/633 [00:00<00:00, 1247.86it/s]\n"
     ]
    },
    {
     "name": "stdout",
     "output_type": "stream",
     "text": [
      "Inserted 633 news articles and related data successfully.\n"
     ]
    },
    {
     "name": "stderr",
     "output_type": "stream",
     "text": [
      "100%|██████████████████████████████████████████████████████████████████████████████████████████████████████████████████████████████████████████████████████████████████████████████████████████████████████████████████████████████████████████████| 728/728 [00:00<00:00, 884.48it/s]\n"
     ]
    },
    {
     "name": "stdout",
     "output_type": "stream",
     "text": [
      "Inserted 728 news articles and related data successfully.\n"
     ]
    },
    {
     "name": "stderr",
     "output_type": "stream",
     "text": [
      "100%|█████████████████████████████████████████████████████████████████████████████████████████████████████████████████████████████████████████████████████████████████████████████████████████████████████████████████████████████████████████████| 730/730 [00:00<00:00, 1343.88it/s]\n"
     ]
    },
    {
     "name": "stdout",
     "output_type": "stream",
     "text": [
      "Inserted 730 news articles and related data successfully.\n",
      "Connection closed successfully!\n"
     ]
    }
   ],
   "source": [
    "# 데이터 넣기\n",
    "import jaydebeapi\n",
    "import os\n",
    "from tqdm import tqdm\n",
    "\n",
    "# 각 JAR 파일의 경로 설정\n",
    "phoenix_jar_path = '../notebook/jdbc/phoenix-client-embedded-hbase-2.5-5.1.3.jar'\n",
    "reload4j_jar_path = '../notebook/jdbc/reload4j-1.2.24.jar'\n",
    "slf4j_reload4j_jar_path = '../notebook/jdbc/slf4j-reload4j-1.7.36.jar'\n",
    "sqlline_jar_path = '../notebook/jdbc/sqlline-1.9.0-jar-with-dependencies.jar'\n",
    "\n",
    "# 클래스패스에 모든 JAR 파일을 추가\n",
    "classpath = f\"{phoenix_jar_path};{reload4j_jar_path};{slf4j_reload4j_jar_path};{sqlline_jar_path}\"\n",
    "\n",
    "# JDBC URL 및 환경 변수 설정\n",
    "jdbc_url = \"jdbc:phoenix:34.64.230.82,34.22.71.84,34.64.42.191:2181:/hbase\"\n",
    "os.environ['JAVA_HOME'] = 'C:/Program Files/Java/jre/bin/server'  # JDK 설치 경로\n",
    "\n",
    "# JayDeBeAPI를 사용하여 Phoenix에 연결\n",
    "conn = jaydebeapi.connect(\n",
    "    \"org.apache.phoenix.jdbc.PhoenixDriver\",\n",
    "    jdbc_url,\n",
    "    [\"\", \"\"],\n",
    "    classpath\n",
    ")\n",
    "\n",
    "# 커서 생성\n",
    "cursor = conn.cursor()\n",
    "print(\"Connection successful\")\n",
    "\n",
    "# 빈 값을 None으로 변환하는 함수\n",
    "def convert_empty_to_none(data):\n",
    "    return None if data == \"\" else data\n",
    "\n",
    "# 종목 뉴스 데이터를 일괄 삽입하는 함수\n",
    "def insert_stock_news_bulk(news_data_list):\n",
    "    # Insert query for ph_stock_news\n",
    "    insert_news_sql = \"\"\"\n",
    "    UPSERT INTO ph_stock_news (\n",
    "        news_id, article, description, media, keywords, sentiment, score, subtitle, thumbnail, title, upload_datetime\n",
    "    ) VALUES (?, ?, ?, ?, ?, ?, ?, ?, ?, ?, ?)\n",
    "    \"\"\"\n",
    "    \n",
    "    # Insert query for ph_stock_news_stock_code\n",
    "    # auto increment지원 안하므로 이렇게 해야 함\n",
    "    insert_stock_code_sql = \"\"\"\n",
    "    UPSERT INTO ph_stock_news_stock_code (\n",
    "        stock_news_id_stock, stock_news_id, stock_code\n",
    "    ) VALUES (?, ?, ?)\n",
    "    \"\"\"\n",
    "\n",
    "    try:\n",
    "        for data in tqdm(news_data_list):\n",
    "            # 뉴스 데이터를 변환\n",
    "            news_id = int(data['newsId'])  # newsId는 빈값으로 두지 않음\n",
    "            news_tuple = (\n",
    "                news_id,\n",
    "                convert_empty_to_none(data['article']),\n",
    "                convert_empty_to_none(data['description']),\n",
    "                convert_empty_to_none(data['media']),\n",
    "                convert_empty_to_none(\", \".join(data['keywords'])),\n",
    "                convert_empty_to_none(data['sentiment']),\n",
    "                convert_empty_to_none(data['score']),\n",
    "                convert_empty_to_none(data['subtitle']),\n",
    "                convert_empty_to_none(data['thumbnail']),\n",
    "                convert_empty_to_none(data['title']),\n",
    "                convert_empty_to_none(data['uploadDatetime'])\n",
    "            )\n",
    "            \n",
    "            # ph_stock_news에 데이터 삽입\n",
    "            cursor.execute(insert_news_sql, news_tuple)\n",
    "            # stock_codes 및 keywords 삽입 준비\n",
    "            stock_codes_to_insert = [(str(news_id) + stock_code, news_id, stock_code) for stock_code in data['stockCodes']]\n",
    "            # ph_stock_news_stock_code에 데이터 삽입\n",
    "            # print(insert_stock_code_sql)\n",
    "            # print(stock_codes_to_insert)\n",
    "            # cursor.executemany(insert_stock_code_sql, stock_codes_to_insert)\n",
    "            for stock_code in data['stockCodes']:\n",
    "            # ph_stock_news_stock_code에 데이터 삽입\n",
    "                cursor.execute(insert_stock_code_sql, (str(news_id) + stock_code, news_id, stock_code))\n",
    "        \n",
    "        # 데이터 커밋\n",
    "        conn.commit()\n",
    "        print(f\"Inserted {len(news_data_list)} news articles and related data successfully.\")\n",
    "\n",
    "    except Exception as e:\n",
    "        print(f\"Error: {e}\")\n",
    "        conn.rollback()\n",
    "\n",
    "# 사용 예시\n",
    "if __name__ == \"__main__\":\n",
    "    # 예시 데이터 (여러 개의 뉴스 데이터)\n",
    "\n",
    "    for data_list in json_data_list:\n",
    "        # 데이터 일괄 삽입\n",
    "        insert_stock_news_bulk(data_list['data'])\n",
    "\n",
    "# 커서 및 연결 종료\n",
    "cursor.close()\n",
    "conn.close()\n",
    "print(\"Connection closed successfully!\")\n"
   ]
  },
  {
   "cell_type": "code",
   "execution_count": null,
   "metadata": {},
   "outputs": [],
   "source": []
  },
  {
   "cell_type": "code",
   "execution_count": 128,
   "metadata": {},
   "outputs": [
    {
     "name": "stdout",
     "output_type": "stream",
     "text": [
      "Connection successful\n",
      "('8월 외국인, 韓 주식 2.6조 팔았다..순매수·순매도 1위는',)\n",
      "('[I-리포트] 에쓰오일, 펀더멘털 개선과 IMO2020 우호적 환경 – 현대차證',)\n",
      "('KMAC, 한국산업의 브랜드추천 조사서 소비자의 높은 추천을 받아 산업계 귀감 된 기업 공개',)\n",
      "('유류세 인하 종료 후 전국 기름값 들썩..서울 휘발유 1600원 돌파',)\n",
      "(\"내년 선박유 '황'규제.. 제거설비 갖춘 SK이노·S-Oil 웃나\",)\n",
      "('[마감] 코스피, 22일만에 1980선 회복',)\n",
      "('알뜰주유소 휘발유 2부 공급사에 한화토탈 선정',)\n",
      "(\"에스오일, 'IMO 2020' 우호적 환경-현대차투자증권\",)\n",
      "('알뜰주유소 2부 시장 유류공급사에 한화토탈 선정',)\n",
      "('알뜰주유소 2부 시장 유류공급사에 한화토탈 선정',)\n",
      "('02일, 거래소 외국인 순매수상위에 서비스업 업종 4종목',)\n",
      "(\"정제마진 회복세..정유주, '이유있는' 반등\",)\n",
      "('\"정유 시황 약세 속 알뜰주유소라도 잡자\"..국내 점유율 경쟁도 \\'후끈\\'',)\n",
      "('상의 \"소재부품 경쟁력 높이려면 기업승계 요건 완화해야\"',)\n",
      "('韓 증시 추석 전까지 관망세 전망多..외국인 투자 동향은?',)\n",
      "('03일, 외국인 거래소에서 KODEX 200(-0.39%), 카카오(+0.36%) 등 순매수',)\n",
      "('대한상의 기재부에 \"가업승계 공제요건 완화\"',)\n",
      "('상의 \"소재부품 경쟁력 높이려면 기업승계 지원 강화해야\"',)\n",
      "Connection closed successfully!\n"
     ]
    }
   ],
   "source": [
    "import jaydebeapi\n",
    "import os\n",
    "\n",
    "# 각 JAR 파일의 경로 설정\n",
    "phoenix_jar_path = '../notebook/jdbc/phoenix-client-embedded-hbase-2.5-5.1.3.jar'\n",
    "reload4j_jar_path = '../notebook/jdbc/reload4j-1.2.24.jar'\n",
    "slf4j_reload4j_jar_path = '../notebook/jdbc/slf4j-reload4j-1.7.36.jar'\n",
    "sqlline_jar_path = '../notebook/jdbc/sqlline-1.9.0-jar-with-dependencies.jar'\n",
    "\n",
    "# 클래스패스에 모든 JAR 파일을 추가\n",
    "classpath = f\"{phoenix_jar_path};{reload4j_jar_path};{slf4j_reload4j_jar_path};{sqlline_jar_path}\"\n",
    "\n",
    "# JDBC URL 및 환경 변수 설정\n",
    "jdbc_url = \"jdbc:phoenix:34.64.230.82,34.22.71.84,34.64.42.191:2181:/hbase\"\n",
    "os.environ['JAVA_HOME'] = 'C:/Program Files/Java/jre/bin/server'  # JDK 설치 경로\n",
    "\n",
    "# JayDeBeAPI를 사용하여 Phoenix에 연결\n",
    "conn = jaydebeapi.connect(\n",
    "    \"org.apache.phoenix.jdbc.PhoenixDriver\",  # 드라이버 클래스 이름\n",
    "    jdbc_url,  # JDBC URL\n",
    "    [\"\", \"\"],  # 사용자명 및 비밀번호, 비워도 됨\n",
    "    classpath  # 클래스패스에 추가된 JAR 파일들\n",
    ")\n",
    "\n",
    "# 커서 생성\n",
    "cursor = conn.cursor()\n",
    "print(\"Connection successful\")\n",
    "\n",
    "# 특정 날짜 사이에서 stock_news_id가 111111인 것들을 찾는 쿼리\n",
    "query = \"\"\"\n",
    "SELECT psn.title\n",
    "FROM ph_stock_news psn\n",
    "JOIN ph_stock_news_stock_code pssc ON psn.news_id = pssc.stock_news_id\n",
    "WHERE pssc.stock_code = '010950'\n",
    "AND psn.upload_datetime BETWEEN TIMESTAMP '2019-09-02 00:00:00' AND TIMESTAMP '2019-09-05 23:59:59'\n",
    "\"\"\"\n",
    "\n",
    "# query = \"\"\"\n",
    "# SELECT COUNT(*)\n",
    "# FROM ph_stock_news\n",
    "# WHERE upload_datetime BETWEEN TIMESTAMP '2019-09-02 00:00:00' AND TIMESTAMP '2019-09-05 23:59:59'\n",
    "# \"\"\"\n",
    "\n",
    "\n",
    "\n",
    "# 쿼리 실행\n",
    "try:\n",
    "    cursor.execute(query)\n",
    "    results = cursor.fetchall()  # 결과 가져오기\n",
    "    for row in results:\n",
    "        print(row)  # 각 행 출력\n",
    "except Exception as e:\n",
    "    print(f\"Error executing query: {e}\")\n",
    "\n",
    "\n",
    "\n",
    "\n",
    "# 커밋 및 연결 종료\n",
    "conn.commit()\n",
    "cursor.close()\n",
    "conn.close()\n",
    "\n",
    "print(\"Connection closed successfully!\")\n"
   ]
  },
  {
   "cell_type": "markdown",
   "metadata": {},
   "source": [
    "# drop"
   ]
  },
  {
   "cell_type": "code",
   "execution_count": 100,
   "metadata": {},
   "outputs": [
    {
     "name": "stdout",
     "output_type": "stream",
     "text": [
      "Connection successful\n",
      "1\n",
      "2\n",
      "Error dropping index or table: org.apache.phoenix.schema.IndexNotFoundException: ERROR 1042 (42M06): Index undefined. tableName=STOCK_IDX_NEWS_ID\n",
      "Connection closed successfully!\n"
     ]
    }
   ],
   "source": [
    "import jaydebeapi\n",
    "import os\n",
    "\n",
    "# 각 JAR 파일의 경로 설정\n",
    "phoenix_jar_path = '../notebook/jdbc/phoenix-client-embedded-hbase-2.5-5.1.3.jar'\n",
    "reload4j_jar_path = '../notebook/jdbc/reload4j-1.2.24.jar'\n",
    "slf4j_reload4j_jar_path = '../notebook/jdbc/slf4j-reload4j-1.7.36.jar'\n",
    "sqlline_jar_path = '../notebook/jdbc/sqlline-1.9.0-jar-with-dependencies.jar'\n",
    "\n",
    "# 클래스패스에 모든 JAR 파일을 추가\n",
    "classpath = f\"{phoenix_jar_path};{reload4j_jar_path};{slf4j_reload4j_jar_path};{sqlline_jar_path}\"\n",
    "\n",
    "# JDBC URL 및 환경 변수 설정\n",
    "jdbc_url = \"jdbc:phoenix:34.64.230.82,34.22.71.84,34.64.42.191:2181:/hbase\"\n",
    "os.environ['JAVA_HOME'] = 'C:/Program Files/Java/jre/bin/server'  # JDK 설치 경로\n",
    "\n",
    "# JayDeBeAPI를 사용하여 Phoenix에 연결\n",
    "conn = jaydebeapi.connect(\n",
    "    \"org.apache.phoenix.jdbc.PhoenixDriver\",  # 드라이버 클래스 이름\n",
    "    jdbc_url,  # JDBC URL\n",
    "    [\"\", \"\"],  # 사용자명 및 비밀번호, 비워도 됨\n",
    "    classpath  # 클래스패스에 추가된 JAR 파일들\n",
    ")\n",
    "\n",
    "# 커서 생성\n",
    "cursor = conn.cursor()\n",
    "print(\"Connection successful\")\n",
    "\n",
    "# 테이블 생성 쿼리 (ph_stock_news)\n",
    "\n",
    "\n",
    "# 테이블 및 인덱스 삭제 쿼리\n",
    "drop1 = \"DROP INDEX stock_idx_upload_datetime ON ph_stock_news\"\n",
    "drop2 = \"DROP TABLE ph_stock_news\"\n",
    "drop3 = \"DROP INDEX stock_idx_news_id ON ph_stock_news_stock_code\"\n",
    "drop4 = \"DROP TABLE ph_stock_news_stock_code\"\n",
    "\n",
    "\n",
    "\n",
    "# 테이블 및 인덱스 삭제\n",
    "try:\n",
    "    # cursor.execute(drop1)\n",
    "    print(\"1\")\n",
    "    # cursor.execute(drop2)\n",
    "    print(\"2\")\n",
    "    \n",
    "    cursor.execute(drop3)\n",
    "    print(\"3\")\n",
    "    # cursor.execute(drop4)\n",
    "    print(\"4\")\n",
    "except Exception as e:\n",
    "    print(f\"Error dropping index or table: {e}\")\n",
    "\n",
    "# 커밋 및 연결 종료\n",
    "conn.commit()\n",
    "cursor.close()\n",
    "conn.close()\n",
    "\n",
    "print(\"Connection closed successfully!\")\n",
    "\n",
    "\n"
   ]
  },
  {
   "cell_type": "code",
   "execution_count": null,
   "metadata": {},
   "outputs": [],
   "source": []
  }
 ],
 "metadata": {
  "kernelspec": {
   "display_name": "Python 3 (ipykernel)",
   "language": "python",
   "name": "python3"
  }
 },
 "nbformat": 4,
 "nbformat_minor": 2
}
